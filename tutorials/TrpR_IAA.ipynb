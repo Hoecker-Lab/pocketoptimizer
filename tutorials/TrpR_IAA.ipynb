{
 "cells": [
  {
   "cell_type": "markdown",
   "id": "f3d596fc-7ec4-4d0f-9f59-cfd55ab994a7",
   "metadata": {},
   "source": [
    "## TrpR_IAA"
   ]
  },
  {
   "cell_type": "markdown",
   "id": "621603ed-1568-4797-8914-3ddd9456a93c",
   "metadata": {},
   "source": [
    "Exemplary design of the trpytophane repressor (PDB: 1ZT9) with the ligand indole-3-acetic acid (IAA)."
   ]
  },
  {
   "cell_type": "code",
   "execution_count": 1,
   "id": "d23d8c90",
   "metadata": {},
   "outputs": [],
   "source": [
    "# This is a comment. It's marked by a leading \"#\" symbol\n",
    "\n",
    "# Import OS and system libraries\n",
    "import sys\n",
    "import os\n",
    "import logging\n",
    "\n",
    "# Append the pocketoptimizer code to your $PYTHONPATH\n",
    "cwd = os.getcwd()\n",
    "po_dir = os.path.abspath(os.path.join(cwd, '..'))\n",
    "project_dir = os.path.join(cwd, 'TrpR_IAA')\n",
    "if not po_dir in sys.path:\n",
    "    sys.path.insert(0, po_dir)\n",
    "\n",
    "# Import Pocketoptimizer\n",
    "import pocketoptimizer as po\n",
    "\n",
    "# Remove most warnings, only show Errors\n",
    "import warnings\n",
    "warnings.simplefilter(action='ignore', category=FutureWarning)\n",
    "warnings.simplefilter(action='ignore', category=DeprecationWarning)"
   ]
  },
  {
   "cell_type": "code",
   "execution_count": 2,
   "id": "20beea30",
   "metadata": {},
   "outputs": [
    {
     "name": "stderr",
     "output_type": "stream",
     "text": [
      "2023-01-13 15:41:30,412 - pocketoptimizer.ui - INFO - Logging to: /agh/projects/jakob/PycharmProjects/PocketOptimizer2/docs/tutorials/TrpR_IAA/pocketoptimizer.log\n"
     ]
    }
   ],
   "source": [
    "# Initialize a new design pipeline\n",
    "design = po.DesignPipeline(work_dir=project_dir,         # Path to working directory containing scaffold and ligand subdirectory\n",
    "                           ph=7,                         # pH used for protein and ligand protonation\n",
    "                           forcefield='amber_ff14SB',    # forcefield used for all energy computations (Use Amber as it is better tested!)\n",
    "                           ncpus=8)                      # Number of CPUs for multiprocessing"
   ]
  },
  {
   "cell_type": "markdown",
   "id": "55fca39b-aa2a-4752-bc42-7182d31b7012",
   "metadata": {},
   "source": [
    "### From now on you are inside the directory of your design!"
   ]
  },
  {
   "cell_type": "code",
   "execution_count": 3,
   "id": "a4513f1b",
   "metadata": {},
   "outputs": [
    {
     "name": "stderr",
     "output_type": "stream",
     "text": [
      "2023-01-13 15:41:31,781 - numexpr.utils - INFO - Note: NumExpr detected 16 cores but \"NUMEXPR_MAX_THREADS\" not set, so enforcing safe limit of 8.\n",
      "2023-01-13 15:41:31,781 - numexpr.utils - INFO - NumExpr defaulting to 8 threads.\n",
      "beignet-opencl-icd: no supported GPU found, this is probably the wrong opencl-icd package for this hardware\n",
      "(If you have multiple ICDs installed and OpenCL works, you can ignore this message)\n",
      "beignet-opencl-icd: no supported GPU found, this is probably the wrong opencl-icd package for this hardware\n",
      "(If you have multiple ICDs installed and OpenCL works, you can ignore this message)\n",
      "2023-01-13 15:41:33,650 - root - WARNING - Warning: importing 'simtk.openmm' is deprecated.  Import 'openmm' instead.\n",
      "2023-01-13 15:41:35,535 - pocketoptimizer.preparation.structure_building - INFO - Adding hydrogen atoms to the ligand according to pH: 7.\n",
      "2023-01-13 15:41:36,401 - pocketoptimizer.preparation.structure_building - INFO - Parameterize ligand for GAFF2.\n",
      "2023-01-13 15:41:36,938 - pocketoptimizer.preparation.structure_building - INFO - Ligand parametrization was successful.\n"
     ]
    }
   ],
   "source": [
    "# Prepare ligand\n",
    "design.parameterize_ligand(input_ligand='ligand/IAA.sdf',  # Input ligand structure file could be .mol2/.sdf\n",
    "                           addHs=True                      # Whether to add hydrogen atoms to the input structure\n",
    "                           )"
   ]
  },
  {
   "cell_type": "code",
   "execution_count": 4,
   "id": "6358191d",
   "metadata": {},
   "outputs": [
    {
     "name": "stderr",
     "output_type": "stream",
     "text": [
      "2023-01-13 15:41:36,961 - pocketoptimizer.ui - INFO - Start Protein Preparation.\n",
      "2023-01-13 15:41:37,198 - pocketoptimizer.preparation.structure_building - INFO - Protonate protein according to pH: 7.\n",
      "2023-01-13 15:41:38,067 - moleculekit.tools.preparation - WARNING - Both chains and segments are defined in Molecule.chain / Molecule.segid, however they are inconsistent. Protein preparation will use the chain information.\n"
     ]
    },
    {
     "name": "stdout",
     "output_type": "stream",
     "text": [
      "\n",
      "---- Molecule chain report ----\n",
      "Chain A:\n",
      "    First residue: SER     5  \n",
      "    Final residue: LEU   105  \n",
      "Chain B:\n",
      "    First residue: SER     5  \n",
      "    Final residue: TRP   901  \n",
      "---- End of chain report ----\n",
      "\n"
     ]
    },
    {
     "name": "stderr",
     "output_type": "stream",
     "text": [
      "2023-01-13 15:41:40,028 - moleculekit.tools.preparation - INFO - Modified residue HIS    16 A to HID\n",
      "2023-01-13 15:41:40,029 - moleculekit.tools.preparation - INFO - Modified residue HIS    35 A to HID\n",
      "2023-01-13 15:41:40,030 - moleculekit.tools.preparation - INFO - Modified residue HIS    16 B to HID\n",
      "2023-01-13 15:41:40,030 - moleculekit.tools.preparation - INFO - Modified residue HIS    35 B to HID\n",
      "2023-01-13 15:41:40,032 - moleculekit.tools.preparation - WARNING - Dubious protonation state: the pKa of 2 residues is within 1.0 units of pH 7.0.\n",
      "2023-01-13 15:41:40,033 - moleculekit.tools.preparation - WARNING - Dubious protonation state:    HIS    16 A (pKa= 6.16)\n",
      "2023-01-13 15:41:40,033 - moleculekit.tools.preparation - WARNING - Dubious protonation state:    HIS    16 B (pKa= 6.24)\n",
      "2023-01-13 15:41:41,403 - pocketoptimizer.preparation.structure_building - INFO - Successfully prepared protein structure.\n",
      "2023-01-13 15:41:41,406 - pocketoptimizer.ui - INFO - Building complex.\n",
      "2023-01-13 15:41:41,593 - pocketoptimizer.preparation.structure_building - INFO - Build native complex.\n",
      "2023-01-13 15:41:41,912 - htmd.builder.amber - INFO - Detecting disulfide bonds.\n",
      "2023-01-13 15:41:42,340 - pocketoptimizer.preparation.structure_building - INFO - Starting the build.\n",
      "2023-01-13 15:41:42,824 - pocketoptimizer.preparation.structure_building - INFO - Finished building.\n",
      "2023-01-13 15:41:45,954 - pocketoptimizer.preparation.structure_building - INFO - Starting potential energy: -613.4546210147854 kcal/mol.\n",
      "2023-01-13 15:42:05,451 - pocketoptimizer.preparation.structure_building - INFO - Ending potential energy: -6564.060559269443 kcal/mol.\n",
      "2023-01-13 15:42:05,611 - pocketoptimizer.preparation.structure_building - INFO - RMSD between minimized and unminimized structure: 0.8859 Å.\n",
      "2023-01-13 15:42:05,764 - pocketoptimizer.ui - INFO - Your protein was successfully minimized and can be used for design now.\n",
      "2023-01-13 15:42:05,765 - pocketoptimizer.ui - INFO - Protein preparation finished.\n"
     ]
    }
   ],
   "source": [
    "design.prepare_protein(\n",
    "    protein_structure='scaffold/1ZT9.pdb',  # Input PDB\n",
    "    keep_chains=['A', 'B'],  # Specific protein chains to keep\n",
    "    backbone_restraint=True, # Restrains the backbone during the minimization\n",
    "    cuda=False,               # Performs minimization on CPU instead of GPU\n",
    "    discard_mols=[{'chain': 'A', 'resid': '1001'}]     # Special molecules to exclude. Per default everything, but peptides have to be defined manually\n",
    "    )"
   ]
  },
  {
   "cell_type": "code",
   "execution_count": 5,
   "id": "b9e4e7fa",
   "metadata": {},
   "outputs": [
    {
     "name": "stderr",
     "output_type": "stream",
     "text": [
      "2023-01-13 15:42:38,172 - pocketoptimizer.sampling.conformer_generator_obabel - INFO - Starting ligand conformer generation using obabel.\n",
      "2023-01-13 15:42:38,173 - pocketoptimizer.sampling.conformer_generator_obabel - INFO - Selected Method: genetic.\n",
      "2023-01-13 15:42:38,798 - pocketoptimizer.sampling.conformer_generator_obabel - INFO - Generated 50 conformers.\n",
      "2023-01-13 15:42:38,800 - pocketoptimizer.sampling.conformer_generator_obabel - INFO - Conformer sampling was successful.\n"
     ]
    }
   ],
   "source": [
    "design.prepare_lig_conformers(\n",
    "    nconfs=50,         # Maximum number of conformers to produce (Sometimes these methods produce lower number of conformations)\n",
    "    method='genetic',  # Genetic method in OpenBabel, other option is confab\n",
    "    score='rmsd',      # Filters conformers based on RMSD\n",
    "    )"
   ]
  },
  {
   "cell_type": "code",
   "execution_count": 6,
   "id": "b2a2545c",
   "metadata": {},
   "outputs": [
    {
     "name": "stderr",
     "output_type": "stream",
     "text": [
      "2023-01-13 15:42:40,845 - pocketoptimizer.ui - INFO - If design positions are removed or added a new design run should be started.\n"
     ]
    }
   ],
   "source": [
    "# Your mutations\n",
    "design.set_mutations([{'mutations': ['LEU', 'THR'], 'resid': '88', 'chain': 'B'}, \n",
    "                      {'mutations': ['ARG'], 'resid': '84', 'chain': 'B'}, \n",
    "                      {'mutations': ['LEU','THR'], 'resid': '44', 'chain': 'A'}]\n",
    ")"
   ]
  },
  {
   "cell_type": "code",
   "execution_count": 7,
   "id": "e67d6dac",
   "metadata": {},
   "outputs": [
    {
     "name": "stderr",
     "output_type": "stream",
     "text": [
      "2023-01-13 15:42:43,142 - pocketoptimizer.ui - INFO - Start building mutated protein scaffold variants.\n",
      "2023-01-13 15:42:43,145 - pocketoptimizer.ui - INFO - Build GLY sampling pockets.\n",
      "2023-01-13 15:42:43,671 - pocketoptimizer.preparation.structure_building - INFO - Build ligand sampling pocket.\n",
      "2023-01-13 15:42:44,171 - htmd.builder.amber - INFO - Detecting disulfide bonds.\n",
      "2023-01-13 15:42:44,386 - pocketoptimizer.preparation.structure_building - INFO - Starting the build.\n",
      "2023-01-13 15:42:44,722 - pocketoptimizer.preparation.structure_building - INFO - Finished building.\n",
      "2023-01-13 15:42:46,236 - pocketoptimizer.preparation.structure_building - INFO - Build mutation: A_44_LEU.\n",
      "2023-01-13 15:42:46,855 - htmd.builder.amber - INFO - Detecting disulfide bonds.\n",
      "2023-01-13 15:42:47,025 - pocketoptimizer.preparation.structure_building - INFO - Starting the build.\n",
      "2023-01-13 15:42:47,412 - pocketoptimizer.preparation.structure_building - INFO - Finished building.\n",
      "2023-01-13 15:42:48,939 - pocketoptimizer.preparation.structure_building - INFO - Build mutation: A_44_THR.\n",
      "2023-01-13 15:42:49,494 - htmd.builder.amber - INFO - Detecting disulfide bonds.\n",
      "2023-01-13 15:42:49,680 - pocketoptimizer.preparation.structure_building - INFO - Starting the build.\n",
      "2023-01-13 15:42:50,004 - pocketoptimizer.preparation.structure_building - INFO - Finished building.\n",
      "2023-01-13 15:42:51,386 - pocketoptimizer.preparation.structure_building - INFO - Build mutation: B_84_ARG.\n",
      "2023-01-13 15:42:51,888 - htmd.builder.amber - INFO - Detecting disulfide bonds.\n",
      "2023-01-13 15:42:52,045 - pocketoptimizer.preparation.structure_building - INFO - Starting the build.\n",
      "2023-01-13 15:42:52,386 - pocketoptimizer.preparation.structure_building - INFO - Finished building.\n",
      "2023-01-13 15:42:53,825 - pocketoptimizer.preparation.structure_building - INFO - Build mutation: B_88_LEU.\n",
      "2023-01-13 15:42:54,390 - htmd.builder.amber - INFO - Detecting disulfide bonds.\n",
      "2023-01-13 15:42:54,543 - pocketoptimizer.preparation.structure_building - INFO - Starting the build.\n",
      "2023-01-13 15:42:54,903 - pocketoptimizer.preparation.structure_building - INFO - Finished building.\n",
      "2023-01-13 15:42:56,350 - pocketoptimizer.preparation.structure_building - INFO - Build mutation: B_88_THR.\n",
      "2023-01-13 15:42:56,902 - htmd.builder.amber - INFO - Detecting disulfide bonds.\n",
      "2023-01-13 15:42:57,059 - pocketoptimizer.preparation.structure_building - INFO - Starting the build.\n",
      "2023-01-13 15:42:57,412 - pocketoptimizer.preparation.structure_building - INFO - Finished building.\n",
      "2023-01-13 15:42:58,844 - pocketoptimizer.preparation.structure_building - INFO - Build mutation combination: A_44_LEU_B_84_ARG.\n",
      "2023-01-13 15:42:59,272 - htmd.builder.amber - INFO - Detecting disulfide bonds.\n",
      "2023-01-13 15:42:59,433 - pocketoptimizer.preparation.structure_building - INFO - Starting the build.\n",
      "2023-01-13 15:42:59,771 - pocketoptimizer.preparation.structure_building - INFO - Finished building.\n",
      "2023-01-13 15:43:01,349 - pocketoptimizer.preparation.structure_building - INFO - Build mutation combination: A_44_THR_B_84_ARG.\n",
      "2023-01-13 15:43:01,820 - htmd.builder.amber - INFO - Detecting disulfide bonds.\n",
      "2023-01-13 15:43:01,979 - pocketoptimizer.preparation.structure_building - INFO - Starting the build.\n",
      "2023-01-13 15:43:02,297 - pocketoptimizer.preparation.structure_building - INFO - Finished building.\n",
      "2023-01-13 15:43:04,135 - pocketoptimizer.preparation.structure_building - INFO - Build mutation combination: A_44_LEU_B_88_LEU.\n",
      "2023-01-13 15:43:04,698 - htmd.builder.amber - INFO - Detecting disulfide bonds.\n",
      "2023-01-13 15:43:04,867 - pocketoptimizer.preparation.structure_building - INFO - Starting the build.\n",
      "2023-01-13 15:43:05,161 - pocketoptimizer.preparation.structure_building - INFO - Finished building.\n",
      "2023-01-13 15:43:06,565 - pocketoptimizer.preparation.structure_building - INFO - Build mutation combination: A_44_LEU_B_88_THR.\n",
      "2023-01-13 15:43:07,071 - htmd.builder.amber - INFO - Detecting disulfide bonds.\n",
      "2023-01-13 15:43:07,254 - pocketoptimizer.preparation.structure_building - INFO - Starting the build.\n",
      "2023-01-13 15:43:07,553 - pocketoptimizer.preparation.structure_building - INFO - Finished building.\n",
      "2023-01-13 15:43:08,993 - pocketoptimizer.preparation.structure_building - INFO - Build mutation combination: A_44_THR_B_88_LEU.\n",
      "2023-01-13 15:43:09,415 - htmd.builder.amber - INFO - Detecting disulfide bonds.\n",
      "2023-01-13 15:43:09,601 - pocketoptimizer.preparation.structure_building - INFO - Starting the build.\n",
      "2023-01-13 15:43:09,896 - pocketoptimizer.preparation.structure_building - INFO - Finished building.\n",
      "2023-01-13 15:43:11,424 - pocketoptimizer.preparation.structure_building - INFO - Build mutation combination: A_44_THR_B_88_THR.\n",
      "2023-01-13 15:43:11,839 - htmd.builder.amber - INFO - Detecting disulfide bonds.\n",
      "2023-01-13 15:43:12,069 - pocketoptimizer.preparation.structure_building - INFO - Starting the build.\n",
      "2023-01-13 15:43:12,368 - pocketoptimizer.preparation.structure_building - INFO - Finished building.\n",
      "2023-01-13 15:43:13,876 - pocketoptimizer.preparation.structure_building - INFO - Build mutation combination: B_84_ARG_B_88_LEU.\n",
      "2023-01-13 15:43:14,369 - htmd.builder.amber - INFO - Detecting disulfide bonds.\n",
      "2023-01-13 15:43:14,527 - pocketoptimizer.preparation.structure_building - INFO - Starting the build.\n",
      "2023-01-13 15:43:14,840 - pocketoptimizer.preparation.structure_building - INFO - Finished building.\n",
      "2023-01-13 15:43:16,386 - pocketoptimizer.preparation.structure_building - INFO - Build mutation combination: B_84_ARG_B_88_THR.\n",
      "2023-01-13 15:43:16,820 - htmd.builder.amber - INFO - Detecting disulfide bonds.\n",
      "2023-01-13 15:43:16,983 - pocketoptimizer.preparation.structure_building - INFO - Starting the build.\n",
      "2023-01-13 15:43:17,286 - pocketoptimizer.preparation.structure_building - INFO - Finished building.\n",
      "2023-01-13 15:43:18,781 - pocketoptimizer.ui - INFO - Scaffold building done.\n"
     ]
    }
   ],
   "source": [
    "# Prepares all defined mutants and glycine scaffolds for side chain rotamer and ligand pose sampling\n",
    "design.prepare_mutants(sampling_pocket='GLY')"
   ]
  },
  {
   "cell_type": "code",
   "execution_count": 8,
   "id": "59578900",
   "metadata": {},
   "outputs": [
    {
     "name": "stderr",
     "output_type": "stream",
     "text": [
      "2023-01-13 15:43:31,354 - pocketoptimizer.sampling.sidechain_rotamers_ffev - INFO - Start rotamer sampling procedure using FFEvaluate.\n",
      "2023-01-13 15:43:31,355 - pocketoptimizer.sampling.sidechain_rotamers_ffev - INFO - Using 8 CPU's for multiprocessing.\n",
      "2023-01-13 15:43:32,045 - pocketoptimizer.sampling.sidechain_rotamers_ffev - INFO - Rotamers for residue: A_44_LEU not sampled yet.\n"
     ]
    },
    {
     "data": {
      "application/vnd.jupyter.widget-view+json": {
       "model_id": "6455a9b77ba249638d22c5827b69776b",
       "version_major": 2,
       "version_minor": 0
      },
      "text/plain": [
       "A_44_LEU:   0%|          | 0/64 [00:00<?, ?it/s]"
      ]
     },
     "metadata": {},
     "output_type": "display_data"
    },
    {
     "name": "stderr",
     "output_type": "stream",
     "text": [
      "2023-01-13 15:43:50,730 - pocketoptimizer.sampling.sidechain_rotamers_ffev - INFO - Writing 27/64 rotamers within energy threshold of 100 kcal/mol for LEU at position: A_44.\n",
      "2023-01-13 15:43:50,749 - pocketoptimizer.sampling.sidechain_rotamers_ffev - INFO - Rotamers for residue: A_44_THR not sampled yet.\n"
     ]
    },
    {
     "data": {
      "application/vnd.jupyter.widget-view+json": {
       "model_id": "0b1b56a1adf24a3098a6b5d56188a396",
       "version_major": 2,
       "version_minor": 0
      },
      "text/plain": [
       "A_44_THR:   0%|          | 0/10 [00:00<?, ?it/s]"
      ]
     },
     "metadata": {},
     "output_type": "display_data"
    },
    {
     "name": "stderr",
     "output_type": "stream",
     "text": [
      "2023-01-13 15:44:01,141 - pocketoptimizer.sampling.sidechain_rotamers_ffev - INFO - Writing 7/10 rotamers within energy threshold of 100 kcal/mol for THR at position: A_44.\n",
      "2023-01-13 15:44:01,152 - pocketoptimizer.sampling.sidechain_rotamers_ffev - INFO - Rotamers for residue: B_84_ARG not sampled yet.\n"
     ]
    },
    {
     "data": {
      "application/vnd.jupyter.widget-view+json": {
       "model_id": "7f46d65ff28b4e13ab1147eb22c28642",
       "version_major": 2,
       "version_minor": 0
      },
      "text/plain": [
       "B_84_ARG:   0%|          | 0/343 [00:00<?, ?it/s]"
      ]
     },
     "metadata": {},
     "output_type": "display_data"
    },
    {
     "name": "stderr",
     "output_type": "stream",
     "text": [
      "2023-01-13 15:45:06,311 - pocketoptimizer.sampling.sidechain_rotamers_ffev - INFO - Writing 336/343 rotamers within energy threshold of 100 kcal/mol for ARG at position: B_84.\n",
      "2023-01-13 15:45:06,357 - pocketoptimizer.sampling.sidechain_rotamers_ffev - INFO - Rotamers for residue: B_88_LEU not sampled yet.\n"
     ]
    },
    {
     "data": {
      "application/vnd.jupyter.widget-view+json": {
       "model_id": "637ddcc8b09e4d99ad66baf58c156b18",
       "version_major": 2,
       "version_minor": 0
      },
      "text/plain": [
       "B_88_LEU:   0%|          | 0/55 [00:00<?, ?it/s]"
      ]
     },
     "metadata": {},
     "output_type": "display_data"
    },
    {
     "name": "stderr",
     "output_type": "stream",
     "text": [
      "2023-01-13 15:45:24,144 - pocketoptimizer.sampling.sidechain_rotamers_ffev - INFO - Writing 26/55 rotamers within energy threshold of 100 kcal/mol for LEU at position: B_88.\n",
      "2023-01-13 15:45:24,157 - pocketoptimizer.sampling.sidechain_rotamers_ffev - INFO - Rotamers for residue: B_88_THR not sampled yet.\n"
     ]
    },
    {
     "data": {
      "application/vnd.jupyter.widget-view+json": {
       "model_id": "71fd7b6ec64c462799952b408eba9fb5",
       "version_major": 2,
       "version_minor": 0
      },
      "text/plain": [
       "B_88_THR:   0%|          | 0/10 [00:00<?, ?it/s]"
      ]
     },
     "metadata": {},
     "output_type": "display_data"
    },
    {
     "name": "stderr",
     "output_type": "stream",
     "text": [
      "2023-01-13 15:45:34,856 - pocketoptimizer.sampling.sidechain_rotamers_ffev - INFO - Writing 7/10 rotamers within energy threshold of 100 kcal/mol for THR at position: B_88.\n",
      "2023-01-13 15:45:34,874 - pocketoptimizer.sampling.sidechain_rotamers_ffev - INFO - Rotamer sampling procedure is finished.\n"
     ]
    }
   ],
   "source": [
    "# Sampling of side chain rotamers\n",
    "design.sample_sidechain_rotamers(\n",
    "    vdw_filter_thresh=100,         # Energy threshold of 100 kcal/mol for filtering rotamers\n",
    "    library='dunbrack',            # Use dunbrack rotamer library (Should be used!)\n",
    "    dunbrack_filter_thresh=0.001,  # Probability threshold for filtering rotamers (0.1%)\n",
    "    accurate=False,                # Increases the number of rotamers sampled when using dunbrack (Be careful about the computation time!)\n",
    "    include_native=True            # Include the native rotamers from the minimized structure\n",
    ")"
   ]
  },
  {
   "cell_type": "code",
   "execution_count": 9,
   "id": "b983bed0",
   "metadata": {},
   "outputs": [
    {
     "name": "stderr",
     "output_type": "stream",
     "text": [
      "2023-01-13 15:45:35,681 - pocketoptimizer.ui - INFO - Sample ligand poses.\n",
      "2023-01-13 15:45:35,683 - pocketoptimizer.sampling.ligand_poses - INFO - Start ligand pose sampling procedure.\n",
      "2023-01-13 15:45:36,971 - pocketoptimizer.sampling.ligand_poses - INFO - Generate possible poses within the defined grid.\n"
     ]
    },
    {
     "data": {
      "application/vnd.jupyter.widget-view+json": {
       "model_id": "01f73b2832ba40f48c5aae157caf626c",
       "version_major": 2,
       "version_minor": 0
      },
      "text/plain": [
       "Ligand Conformers:   0%|          | 0/51 [00:00<?, ?it/s]"
      ]
     },
     "metadata": {},
     "output_type": "display_data"
    },
    {
     "name": "stderr",
     "output_type": "stream",
     "text": [
      "2023-01-13 15:45:37,048 - pocketoptimizer.sampling.ligand_poses - INFO - Created possible 4641 poses.\n",
      "2023-01-13 15:45:37,049 - pocketoptimizer.sampling.ligand_poses - INFO - Start filtering poses.\n",
      "2023-01-13 15:45:37,050 - pocketoptimizer.sampling.ligand_poses - INFO - Using 8 CPUs for multiprocessing.\n"
     ]
    },
    {
     "data": {
      "application/vnd.jupyter.widget-view+json": {
       "model_id": "71a814cf447a4781aace7cb4a400aedc",
       "version_major": 2,
       "version_minor": 0
      },
      "text/plain": [
       "Filter Poses:   0%|          | 0/4641 [00:00<?, ?it/s]"
      ]
     },
     "metadata": {},
     "output_type": "display_data"
    },
    {
     "name": "stderr",
     "output_type": "stream",
     "text": [
      "2023-01-13 15:56:30,384 - pocketoptimizer.sampling.ligand_poses - INFO - Calculated 811 poses within energy threshold of 100 kcal/mol.\n",
      "2023-01-13 15:56:30,453 - pocketoptimizer.sampling.ligand_poses - INFO - Pose sampling procedure was successful.\n"
     ]
    }
   ],
   "source": [
    "# Sampling of ligand poses\n",
    "# Defines a grid in which the ligand is translated and rotated along.\n",
    "#                       Range, Steps\n",
    "sample_grid = {'trans': [1, 0.5],  # Angstrom\n",
    "               'rot': [20, 20]}    # Degree\n",
    "design.sample_lig_poses(\n",
    "    method='grid',         #  Uses the grid method. Other option is random\n",
    "    grid=sample_grid,      #  Defined grid for sampling    \n",
    "    vdw_filter_thresh=100, #  Energy threshold of 100 kcal/mol for filtering ligand poses\n",
    "    max_poses=10000        #  Maximum number of poses\n",
    ")"
   ]
  },
  {
   "cell_type": "code",
   "execution_count": 10,
   "id": "bb7a35d1",
   "metadata": {
    "tags": []
   },
   "outputs": [
    {
     "name": "stderr",
     "output_type": "stream",
     "text": [
      "2023-01-13 15:56:30,581 - pocketoptimizer.ui - INFO - Start energy calculations.\n",
      "2023-01-13 15:56:30,582 - pocketoptimizer.ui - INFO - Using 8 CPUs for multiprocessing.\n",
      "2023-01-13 15:56:30,583 - pocketoptimizer.ui - INFO - Calculate Sidechain-Scaffold Energies.\n",
      "2023-01-13 15:56:30,584 - pocketoptimizer.scoring.sidechain_scaffold_energies - INFO - Compute energies using forcefield: amber_ff14SB.\n",
      "2023-01-13 15:56:30,664 - pocketoptimizer.scoring.sidechain_scaffold_energies - INFO - Sidechain-Scaffold/Self interaction energy for residue: A_44_LEU not computed yet.\n"
     ]
    },
    {
     "data": {
      "application/vnd.jupyter.widget-view+json": {
       "model_id": "26f43d193a5548f6961f4c0c61030635",
       "version_major": 2,
       "version_minor": 0
      },
      "text/plain": [
       "  0%|          | 0/27 [00:00<?, ?it/s]"
      ]
     },
     "metadata": {},
     "output_type": "display_data"
    },
    {
     "name": "stderr",
     "output_type": "stream",
     "text": [
      "2023-01-13 15:56:39,511 - pocketoptimizer.scoring.sidechain_scaffold_energies - INFO - Sidechain-Scaffold/Self interaction energy for residue: A_44_THR not computed yet.\n"
     ]
    },
    {
     "data": {
      "application/vnd.jupyter.widget-view+json": {
       "model_id": "78f0eb7affa84de6b79588478587404b",
       "version_major": 2,
       "version_minor": 0
      },
      "text/plain": [
       "  0%|          | 0/7 [00:00<?, ?it/s]"
      ]
     },
     "metadata": {},
     "output_type": "display_data"
    },
    {
     "name": "stderr",
     "output_type": "stream",
     "text": [
      "2023-01-13 15:56:48,002 - pocketoptimizer.scoring.sidechain_scaffold_energies - INFO - Sidechain-Scaffold/Self interaction energy for residue: B_84_ARG not computed yet.\n"
     ]
    },
    {
     "data": {
      "application/vnd.jupyter.widget-view+json": {
       "model_id": "66ea584d94ba4c23a5bb4c0958a51401",
       "version_major": 2,
       "version_minor": 0
      },
      "text/plain": [
       "  0%|          | 0/336 [00:00<?, ?it/s]"
      ]
     },
     "metadata": {},
     "output_type": "display_data"
    },
    {
     "name": "stderr",
     "output_type": "stream",
     "text": [
      "2023-01-13 15:57:05,827 - pocketoptimizer.scoring.sidechain_scaffold_energies - INFO - Sidechain-Scaffold/Self interaction energy for residue: B_88_LEU not computed yet.\n"
     ]
    },
    {
     "data": {
      "application/vnd.jupyter.widget-view+json": {
       "model_id": "67782503d9ef4e66b68177a134d02441",
       "version_major": 2,
       "version_minor": 0
      },
      "text/plain": [
       "  0%|          | 0/26 [00:00<?, ?it/s]"
      ]
     },
     "metadata": {},
     "output_type": "display_data"
    },
    {
     "name": "stderr",
     "output_type": "stream",
     "text": [
      "2023-01-13 15:57:14,488 - pocketoptimizer.scoring.sidechain_scaffold_energies - INFO - Sidechain-Scaffold/Self interaction energy for residue: B_88_THR not computed yet.\n"
     ]
    },
    {
     "data": {
      "application/vnd.jupyter.widget-view+json": {
       "model_id": "31794c56aa3642fb978485dbc9ea3b84",
       "version_major": 2,
       "version_minor": 0
      },
      "text/plain": [
       "  0%|          | 0/7 [00:00<?, ?it/s]"
      ]
     },
     "metadata": {},
     "output_type": "display_data"
    },
    {
     "name": "stderr",
     "output_type": "stream",
     "text": [
      "2023-01-13 15:57:22,494 - pocketoptimizer.scoring.sidechain_scaffold_energies - INFO - Sidechain-Scaffold/Self calculation was successful.\n",
      "2023-01-13 15:57:22,496 - pocketoptimizer.ui - INFO - Calculate Sidechain-Pair Energies.\n",
      "2023-01-13 15:57:22,497 - pocketoptimizer.scoring.sidechain_pair_energies - INFO - Compute energies using forcefield: amber_ff14SB.\n",
      "2023-01-13 15:57:23,114 - pocketoptimizer.scoring.sidechain_pair_energies - INFO - Sidechain-Sidechain interaction energy for residue pair: A_44_LEU/B_84_ARG not computed yet.\n"
     ]
    },
    {
     "data": {
      "application/vnd.jupyter.widget-view+json": {
       "model_id": "e9b9d7c8eb48458ba06fe5e8bb915d9b",
       "version_major": 2,
       "version_minor": 0
      },
      "text/plain": [
       "  0%|          | 0/9072 [00:00<?, ?it/s]"
      ]
     },
     "metadata": {},
     "output_type": "display_data"
    },
    {
     "name": "stderr",
     "output_type": "stream",
     "text": [
      "2023-01-13 15:57:35,301 - pocketoptimizer.scoring.sidechain_pair_energies - INFO - Sidechain-Sidechain interaction energy for residue pair: A_44_THR/B_84_ARG not computed yet.\n"
     ]
    },
    {
     "data": {
      "application/vnd.jupyter.widget-view+json": {
       "model_id": "c2199513bba742f49adebed39ad34ffa",
       "version_major": 2,
       "version_minor": 0
      },
      "text/plain": [
       "  0%|          | 0/2352 [00:00<?, ?it/s]"
      ]
     },
     "metadata": {},
     "output_type": "display_data"
    },
    {
     "name": "stderr",
     "output_type": "stream",
     "text": [
      "2023-01-13 15:57:44,269 - pocketoptimizer.scoring.sidechain_pair_energies - INFO - Sidechain-Sidechain interaction energy for residue pair: A_44_LEU/B_88_LEU not computed yet.\n"
     ]
    },
    {
     "data": {
      "application/vnd.jupyter.widget-view+json": {
       "model_id": "0e4360f429664b4ba1fcdf9fdac48d6f",
       "version_major": 2,
       "version_minor": 0
      },
      "text/plain": [
       "  0%|          | 0/702 [00:00<?, ?it/s]"
      ]
     },
     "metadata": {},
     "output_type": "display_data"
    },
    {
     "name": "stderr",
     "output_type": "stream",
     "text": [
      "2023-01-13 15:57:52,491 - pocketoptimizer.scoring.sidechain_pair_energies - INFO - Sidechain-Sidechain interaction energy for residue pair: A_44_LEU/B_88_THR not computed yet.\n"
     ]
    },
    {
     "data": {
      "application/vnd.jupyter.widget-view+json": {
       "model_id": "3ffa35e1d8bc43ea88d926db5115886d",
       "version_major": 2,
       "version_minor": 0
      },
      "text/plain": [
       "  0%|          | 0/189 [00:00<?, ?it/s]"
      ]
     },
     "metadata": {},
     "output_type": "display_data"
    },
    {
     "name": "stderr",
     "output_type": "stream",
     "text": [
      "2023-01-13 15:58:00,468 - pocketoptimizer.scoring.sidechain_pair_energies - INFO - Sidechain-Sidechain interaction energy for residue pair: A_44_THR/B_88_LEU not computed yet.\n"
     ]
    },
    {
     "data": {
      "application/vnd.jupyter.widget-view+json": {
       "model_id": "5f990cee0d154a78b7b51ed98b8f2681",
       "version_major": 2,
       "version_minor": 0
      },
      "text/plain": [
       "  0%|          | 0/182 [00:00<?, ?it/s]"
      ]
     },
     "metadata": {},
     "output_type": "display_data"
    },
    {
     "name": "stderr",
     "output_type": "stream",
     "text": [
      "2023-01-13 15:58:08,728 - pocketoptimizer.scoring.sidechain_pair_energies - INFO - Sidechain-Sidechain interaction energy for residue pair: A_44_THR/B_88_THR not computed yet.\n"
     ]
    },
    {
     "data": {
      "application/vnd.jupyter.widget-view+json": {
       "model_id": "38a4e101d6b94ecca4d7046e84f8a2e6",
       "version_major": 2,
       "version_minor": 0
      },
      "text/plain": [
       "  0%|          | 0/49 [00:00<?, ?it/s]"
      ]
     },
     "metadata": {},
     "output_type": "display_data"
    },
    {
     "name": "stderr",
     "output_type": "stream",
     "text": [
      "2023-01-13 15:58:17,385 - pocketoptimizer.scoring.sidechain_pair_energies - INFO - Sidechain-Sidechain interaction energy for residue pair: B_84_ARG/B_88_LEU not computed yet.\n"
     ]
    },
    {
     "data": {
      "application/vnd.jupyter.widget-view+json": {
       "model_id": "77805b917291461897c257c00d75a5ac",
       "version_major": 2,
       "version_minor": 0
      },
      "text/plain": [
       "  0%|          | 0/8736 [00:00<?, ?it/s]"
      ]
     },
     "metadata": {},
     "output_type": "display_data"
    },
    {
     "name": "stderr",
     "output_type": "stream",
     "text": [
      "2023-01-13 15:58:29,857 - pocketoptimizer.scoring.sidechain_pair_energies - INFO - Sidechain-Sidechain interaction energy for residue pair: B_84_ARG/B_88_THR not computed yet.\n"
     ]
    },
    {
     "data": {
      "application/vnd.jupyter.widget-view+json": {
       "model_id": "0b3ec6bab252429a89b700b14c4dd34a",
       "version_major": 2,
       "version_minor": 0
      },
      "text/plain": [
       "  0%|          | 0/2352 [00:00<?, ?it/s]"
      ]
     },
     "metadata": {},
     "output_type": "display_data"
    },
    {
     "name": "stderr",
     "output_type": "stream",
     "text": [
      "2023-01-13 15:58:38,704 - pocketoptimizer.scoring.sidechain_pair_energies - INFO - Sidechain-Pair calculation was successful.\n",
      "2023-01-13 15:58:38,706 - pocketoptimizer.ui - INFO - Calculate Ligand-Scaffold/Sidechain-Interaction-Energies.\n",
      "2023-01-13 15:58:38,737 - pocketoptimizer.scoring.smina_scorer - INFO - Score ligand interactions using vina.\n",
      "2023-01-13 15:58:39,648 - pocketoptimizer.scoring.smina_scorer - INFO - Ligand-Scaffold/Self interaction energy not computed yet.\n",
      "2023-01-13 15:58:39,649 - pocketoptimizer.scoring.smina_scorer - INFO - Prepare fixed scaffold.\n"
     ]
    },
    {
     "data": {
      "application/vnd.jupyter.widget-view+json": {
       "model_id": "b93718cb0b9849be950b5caef4f31c28",
       "version_major": 2,
       "version_minor": 0
      },
      "text/plain": [
       "Ligand/Scaffold:   0%|          | 0/1 [00:00<?, ?it/s]"
      ]
     },
     "metadata": {},
     "output_type": "display_data"
    },
    {
     "name": "stderr",
     "output_type": "stream",
     "text": [
      "2023-01-13 15:58:45,129 - pocketoptimizer.scoring.smina_scorer - INFO - Ligand-Sidechain interaction energy for residue: A_44_LEU not computed yet.\n",
      "2023-01-13 15:58:45,261 - pocketoptimizer.scoring.smina_scorer - INFO - Loop over rotamers of residue: A_44_LEU.\n"
     ]
    },
    {
     "data": {
      "application/vnd.jupyter.widget-view+json": {
       "model_id": "7975e7b2c5cc42d8b6c904abc81ce25a",
       "version_major": 2,
       "version_minor": 0
      },
      "text/plain": [
       "Ligand/A_44_LEU:   0%|          | 0/27 [00:00<?, ?it/s]"
      ]
     },
     "metadata": {},
     "output_type": "display_data"
    },
    {
     "name": "stderr",
     "output_type": "stream",
     "text": [
      "2023-01-13 15:59:04,495 - pocketoptimizer.scoring.smina_scorer - INFO - Ligand-Sidechain interaction energy for residue: A_44_THR not computed yet.\n",
      "2023-01-13 15:59:04,540 - pocketoptimizer.scoring.smina_scorer - INFO - Loop over rotamers of residue: A_44_THR.\n"
     ]
    },
    {
     "data": {
      "application/vnd.jupyter.widget-view+json": {
       "model_id": "ddfc9ff2e8d64fe9b19b4095cc0f4888",
       "version_major": 2,
       "version_minor": 0
      },
      "text/plain": [
       "Ligand/A_44_THR:   0%|          | 0/7 [00:00<?, ?it/s]"
      ]
     },
     "metadata": {},
     "output_type": "display_data"
    },
    {
     "name": "stderr",
     "output_type": "stream",
     "text": [
      "2023-01-13 15:59:09,485 - pocketoptimizer.scoring.smina_scorer - INFO - Ligand-Sidechain interaction energy for residue: B_84_ARG not computed yet.\n",
      "2023-01-13 15:59:10,309 - pocketoptimizer.scoring.smina_scorer - INFO - Loop over rotamers of residue: B_84_ARG.\n"
     ]
    },
    {
     "data": {
      "application/vnd.jupyter.widget-view+json": {
       "model_id": "3cb38bc7f9294987b9cf154480ca4a0d",
       "version_major": 2,
       "version_minor": 0
      },
      "text/plain": [
       "Ligand/B_84_ARG:   0%|          | 0/336 [00:00<?, ?it/s]"
      ]
     },
     "metadata": {},
     "output_type": "display_data"
    },
    {
     "name": "stderr",
     "output_type": "stream",
     "text": [
      "2023-01-13 16:03:06,775 - pocketoptimizer.scoring.smina_scorer - INFO - Ligand-Sidechain interaction energy for residue: B_88_LEU not computed yet.\n",
      "2023-01-13 16:03:06,900 - pocketoptimizer.scoring.smina_scorer - INFO - Loop over rotamers of residue: B_88_LEU.\n"
     ]
    },
    {
     "data": {
      "application/vnd.jupyter.widget-view+json": {
       "model_id": "1bff5936f3074fe49d9aa9288665ef53",
       "version_major": 2,
       "version_minor": 0
      },
      "text/plain": [
       "Ligand/B_88_LEU:   0%|          | 0/26 [00:00<?, ?it/s]"
      ]
     },
     "metadata": {},
     "output_type": "display_data"
    },
    {
     "name": "stderr",
     "output_type": "stream",
     "text": [
      "2023-01-13 16:03:24,949 - pocketoptimizer.scoring.smina_scorer - INFO - Ligand-Sidechain interaction energy for residue: B_88_THR not computed yet.\n",
      "2023-01-13 16:03:24,993 - pocketoptimizer.scoring.smina_scorer - INFO - Loop over rotamers of residue: B_88_THR.\n"
     ]
    },
    {
     "data": {
      "application/vnd.jupyter.widget-view+json": {
       "model_id": "b525c43e615f4b639da9cd9bc21695a8",
       "version_major": 2,
       "version_minor": 0
      },
      "text/plain": [
       "Ligand/B_88_THR:   0%|          | 0/7 [00:00<?, ?it/s]"
      ]
     },
     "metadata": {},
     "output_type": "display_data"
    },
    {
     "name": "stderr",
     "output_type": "stream",
     "text": [
      "2023-01-13 16:03:30,050 - pocketoptimizer.scoring.smina_scorer - INFO - Ligand scoring was successful.\n",
      "2023-01-13 16:03:30,052 - pocketoptimizer.ui - INFO - Energy calculation was successful.\n"
     ]
    }
   ],
   "source": [
    "design.calculate_energies(\n",
    "    scoring='vina',           #  Method to score protein-ligand interaction\n",
    ")"
   ]
  },
  {
   "cell_type": "code",
   "execution_count": 13,
   "id": "d7d2cd60",
   "metadata": {
    "tags": []
   },
   "outputs": [
    {
     "name": "stderr",
     "output_type": "stream",
     "text": [
      "2023-01-13 16:05:33,401 - pocketoptimizer.solving.sontag_solver - INFO - Calculating Solutions.\n"
     ]
    },
    {
     "data": {
      "application/vnd.jupyter.widget-view+json": {
       "model_id": "48d8942eb314430dbf27c7565cfff937",
       "version_major": 2,
       "version_minor": 0
      },
      "text/plain": [
       "Solutions:   0%|          | 0/10 [00:00<?, ?it/s]"
      ]
     },
     "metadata": {},
     "output_type": "display_data"
    },
    {
     "name": "stderr",
     "output_type": "stream",
     "text": [
      "2023-01-13 16:05:40,331 - pocketoptimizer.ui - INFO - Parse calculated solutions.\n",
      "2023-01-13 16:05:40,647 - pocketoptimizer.ui - INFO - Read 10 solution(s) from solver output.\n",
      "2023-01-13 16:05:43,638 - pocketoptimizer.ui - INFO - Write text report.\n",
      "2023-01-13 16:05:43,680 - pocketoptimizer.ui - INFO - Wrote solution report text file(s).\n",
      "2023-01-13 16:05:43,683 - pocketoptimizer.ui - INFO - Wrote summary text file.\n",
      "2023-01-13 16:05:43,684 - pocketoptimizer.ui - INFO - Write html report.\n",
      "2023-01-13 16:05:43,765 - pocketoptimizer.ui - INFO - Wrote solution report html file(s).\n",
      "2023-01-13 16:05:43,766 - pocketoptimizer.design.html_reporter - INFO - Create energy plot.\n",
      "2023-01-13 16:05:44,202 - pocketoptimizer.design.html_reporter - INFO - Create sequence logo for mutable positions.\n"
     ]
    },
    {
     "data": {
      "image/png": "[encoded data removed]",
      "text/plain": [
       "<IPython.core.display.Image object>"
      ]
     },
     "metadata": {},
     "output_type": "display_data"
    },
    {
     "name": "stderr",
     "output_type": "stream",
     "text": [
      "2023-01-13 16:05:44,661 - pocketoptimizer.ui - INFO - Wrote summary html file.\n",
      "2023-01-13 16:05:44,662 - pocketoptimizer.ui - INFO - Creating design structure files.\n",
      "2023-01-13 16:05:44,663 - pocketoptimizer.ui - INFO - Create Structures.\n",
      "2023-01-13 16:05:53,231 - pocketoptimizer.ui - INFO - Creating PyMol scripts.\n",
      "2023-01-13 16:05:53,254 - pocketoptimizer.ui - INFO - 10 best design solution(s) for design with forcefield: amber_ff14SB, scoring method: vina and ligand scaling: 20 identified.\n"
     ]
    },
    {
     "data": {
      "image/png": "[encoded data removed]",
      "text/plain": [
       "<Figure size 640x480 with 1 Axes>"
      ]
     },
     "metadata": {},
     "output_type": "display_data"
    }
   ],
   "source": [
    "# Compute the lowest energy structures using linear programming\n",
    "design.design(\n",
    "    num_solutions=10,           #  Number of solutions to compute\n",
    "    ligand_scaling=20,          #  Scaling factor for binding-related energies (You need to adapt this to approximate the packing and binding energies)\n",
    ")"
   ]
  },
  {
   "cell_type": "code",
   "execution_count": 3,
   "id": "a4510d5f-c706-4cf7-825e-45556ec12d2b",
   "metadata": {},
   "outputs": [
    {
     "name": "stderr",
     "output_type": "stream",
     "text": [
      "2023-01-13 15:41:23,278 - pocketoptimizer.ui - INFO - All scaffold files were deleted.\n",
      "2023-01-13 15:41:23,302 - pocketoptimizer.ui - INFO - All ligand files were deleted.\n",
      "2023-01-13 15:41:23,304 - pocketoptimizer.ui - INFO - Logfile was deleted.\n"
     ]
    }
   ],
   "source": [
    "# Do not run this unless you want to fully clean your working directory from all created files and folders!\n",
    "design.clean(scaffold=True, ligand=True)"
   ]
  },
  {
   "cell_type": "code",
   "execution_count": null,
   "id": "6e8ac38d-0f89-42c1-84c8-d8073419cb19",
   "metadata": {},
   "outputs": [],
   "source": []
  }
 ],
 "metadata": {
  "kernelspec": {
   "display_name": "pocketoptimizer",
   "language": "python",
   "name": "pocketoptimizer"
  },
  "language_info": {
   "codemirror_mode": {
    "name": "ipython",
    "version": 3
   },
   "file_extension": ".py",
   "mimetype": "text/x-python",
   "name": "python",
   "nbconvert_exporter": "python",
   "pygments_lexer": "ipython3",
   "version": "3.9.13"
  }
 },
 "nbformat": 4,
 "nbformat_minor": 5
}