{
 "cells": [
  {
   "cell_type": "markdown",
   "id": "f3d596fc-7ec4-4d0f-9f59-cfd55ab994a7",
   "metadata": {},
   "source": [
    "## TrpR_IAA"
   ]
  },
  {
   "cell_type": "markdown",
   "id": "621603ed-1568-4797-8914-3ddd9456a93c",
   "metadata": {},
   "source": [
    "Exemplary design of the trpytophane repressor (PDB: 1ZT9) with the ligand indole-3-acetic acid (IAA)."
   ]
  },
  {
   "cell_type": "code",
   "execution_count": 1,
   "id": "d23d8c90",
   "metadata": {},
   "outputs": [],
   "source": [
    "# This is a comment. It's marked by a leading \"#\" symbol\n",
    "\n",
    "# Import OS and system libraries\n",
    "import sys\n",
    "import pathlib\n",
    "\n",
    "# Append the pocketoptimizer code to your $PYTHONPATH\n",
    "sys.path.append(str(pathlib.Path.cwd().parent.resolve()))\n",
    "\n",
    "# Import Pocketoptimizer\n",
    "import pocketoptimizer as po\n",
    "\n",
    "# Remove most warnings, only show Errors\n",
    "import warnings\n",
    "warnings.simplefilter(action='ignore', category=FutureWarning)\n",
    "warnings.simplefilter(action='ignore', category=DeprecationWarning)"
   ]
  },
  {
   "cell_type": "code",
   "execution_count": 2,
   "id": "20beea30",
   "metadata": {},
   "outputs": [
    {
     "name": "stderr",
     "output_type": "stream",
     "text": [
      "2024-02-02 13:10:12,715 - pocketoptimizer.ui - INFO - Logging to: /agh/projects/pocketoptimizer/pocketoptimizer/tutorials/TrpR_IAA/pocketoptimizer.log\n"
     ]
    }
   ],
   "source": [
    "# Initialize a new design pipeline\n",
    "design = po.DesignPipeline(work_dir='/agh/projects/pocketoptimizer/pocketoptimizer/tutorials/TrpR_IAA', # Path to working directory containing scaffold and ligand subdirectory\n",
    "                           ph=7,                         # pH used for protein and ligand protonation\n",
    "                           forcefield='amber_ff14SB',    # forcefield used for all energy computations (Use Amber as it is better tested!)\n",
    "                           ncpus=8)                      # Number of CPUs for multiprocessing"
   ]
  },
  {
   "cell_type": "markdown",
   "id": "55fca39b-aa2a-4752-bc42-7182d31b7012",
   "metadata": {},
   "source": [
    "### From now on you are inside the directory of your design!"
   ]
  },
  {
   "cell_type": "code",
   "execution_count": 3,
   "id": "a4513f1b",
   "metadata": {},
   "outputs": [
    {
     "name": "stderr",
     "output_type": "stream",
     "text": [
      "2023-11-09 10:28:29,868 - numexpr.utils - INFO - Note: NumExpr detected 12 cores but \"NUMEXPR_MAX_THREADS\" not set, so enforcing safe limit of 8.\n",
      "2023-11-09 10:28:29,868 - numexpr.utils - INFO - NumExpr defaulting to 8 threads.\n",
      "2023-11-09 10:28:32,214 - root - WARNING - Warning: importing 'simtk.openmm' is deprecated.  Import 'openmm' instead.\n",
      "2023-11-09 10:28:33,299 - moleculekit.readers - WARNING - MoleculeKit will only read the first molecule from the SDF file.\n",
      "2023-11-09 10:28:33,724 - pocketoptimizer.preparation.structure_building - INFO - Adding hydrogen atoms to the ligand according to pH: 7.\n",
      "2023-11-09 10:28:36,347 - pocketoptimizer.preparation.structure_building - INFO - Parameterize ligand for GAFF2.\n",
      "2023-11-09 10:28:36,580 - pocketoptimizer.preparation.structure_building - INFO - Ligand parametrization was successful.\n"
     ]
    }
   ],
   "source": [
    "# Prepare ligand\n",
    "design.parameterize_ligand(input_ligand='ligand/IAA.sdf',  # Input ligand structure file could be .mol2/.sdf\n",
    "                           addHs=True                      # Whether to add hydrogen atoms to the input structure\n",
    "                           )"
   ]
  },
  {
   "cell_type": "code",
   "execution_count": 4,
   "id": "6358191d",
   "metadata": {},
   "outputs": [
    {
     "name": "stderr",
     "output_type": "stream",
     "text": [
      "2023-11-09 10:28:37,236 - pocketoptimizer.ui - INFO - Start Protein Preparation.\n",
      "2023-11-09 10:28:37,350 - pocketoptimizer.preparation.structure_building - INFO - Protonate protein according to pH: 7.\n",
      "2023-11-09 10:28:37,972 - moleculekit.tools.preparation - WARNING - Both chains and segments are defined in Molecule.chain / Molecule.segid, however they are inconsistent. Protein preparation will use the chain information.\n"
     ]
    },
    {
     "name": "stdout",
     "output_type": "stream",
     "text": [
      "\n",
      "---- Molecule chain report ----\n",
      "Chain A:\n",
      "    First residue: SER     5  \n",
      "    Final residue: LEU   105  \n",
      "Chain B:\n",
      "    First residue: SER     5  \n",
      "    Final residue: TRP   901  \n",
      "---- End of chain report ----\n",
      "\n"
     ]
    },
    {
     "name": "stderr",
     "output_type": "stream",
     "text": [
      "2023-11-09 10:28:38,914 - moleculekit.tools.preparation - INFO - Modified residue HIS    16 A to HID\n",
      "2023-11-09 10:28:38,915 - moleculekit.tools.preparation - INFO - Modified residue HIS    35 A to HID\n",
      "2023-11-09 10:28:38,915 - moleculekit.tools.preparation - INFO - Modified residue HIS    16 B to HID\n",
      "2023-11-09 10:28:38,915 - moleculekit.tools.preparation - INFO - Modified residue HIS    35 B to HID\n",
      "2023-11-09 10:28:38,916 - moleculekit.tools.preparation - WARNING - Dubious protonation state: the pKa of 2 residues is within 1.0 units of pH 7.0.\n",
      "2023-11-09 10:28:38,916 - moleculekit.tools.preparation - WARNING - Dubious protonation state:    HIS    16 A (pKa= 6.16)\n",
      "2023-11-09 10:28:38,916 - moleculekit.tools.preparation - WARNING - Dubious protonation state:    HIS    16 B (pKa= 6.24)\n",
      "2023-11-09 10:28:40,318 - pocketoptimizer.preparation.structure_building - INFO - Successfully prepared protein structure.\n",
      "2023-11-09 10:28:40,319 - pocketoptimizer.ui - INFO - Building complex.\n",
      "2023-11-09 10:28:40,413 - pocketoptimizer.preparation.structure_building - INFO - Build native complex.\n",
      "2023-11-09 10:28:40,568 - htmd.builder.amber - INFO - Detecting disulfide bonds.\n",
      "2023-11-09 10:28:40,730 - py.warnings - WARNING - /agh/projects/jakob/miniconda3/envs/pocketoptimizer/lib/python3.10/site-packages/Bio/pairwise2.py:278: BiopythonDeprecationWarning: Bio.pairwise2 has been deprecated, and we intend to remove it in a future release of Biopython. As an alternative, please consider using Bio.Align.PairwiseAligner as a replacement, and contact the Biopython developers if you still need the Bio.pairwise2 module.\n",
      "  warnings.warn(\n",
      "\n",
      "2023-11-09 10:28:40,740 - pocketoptimizer.preparation.structure_building - INFO - Starting the build.\n",
      "2023-11-09 10:28:41,061 - pocketoptimizer.preparation.structure_building - INFO - Finished building.\n",
      "2023-11-09 10:28:42,452 - pocketoptimizer.preparation.structure_building - INFO - Starting potential energy: -613.4511484661747 kcal/mol.\n",
      "2023-11-09 10:28:43,380 - pocketoptimizer.preparation.structure_building - INFO - Ending potential energy: -6599.9350904741605 kcal/mol.\n",
      "2023-11-09 10:28:43,503 - pocketoptimizer.preparation.structure_building - INFO - RMSD between minimized and unminimized structure: 0.9509 Å.\n",
      "2023-11-09 10:28:43,591 - pocketoptimizer.ui - INFO - Your protein was successfully minimized and can be used for design now.\n",
      "2023-11-09 10:28:43,592 - pocketoptimizer.ui - INFO - Protein preparation finished.\n"
     ]
    }
   ],
   "source": [
    "design.prepare_protein(\n",
    "    protein_structure='scaffold/1ZT9.pdb',  # Input PDB\n",
    "    keep_chains=['A', 'B'],   # Specific protein chains to keep\n",
    "    backbone_restraint=True,  # Restrains the backbone during the minimization\n",
    "    discard_mols=[{'chain': 'A', 'resid': '1001'}]     # Special molecules to exclude. Per default everything, but peptides have to be defined manually\n",
    "    )"
   ]
  },
  {
   "cell_type": "code",
   "execution_count": 5,
   "id": "b9e4e7fa",
   "metadata": {},
   "outputs": [
    {
     "name": "stderr",
     "output_type": "stream",
     "text": [
      "2023-11-09 10:28:47,026 - pocketoptimizer.sampling.conformer_generator_obabel - INFO - Starting ligand conformer generation using obabel.\n",
      "2023-11-09 10:28:47,027 - pocketoptimizer.sampling.conformer_generator_obabel - INFO - Selected Method: genetic.\n",
      "2023-11-09 10:28:47,409 - pocketoptimizer.sampling.conformer_generator_obabel - INFO - Generated 50 conformers.\n",
      "2023-11-09 10:28:47,410 - pocketoptimizer.sampling.conformer_generator_obabel - INFO - Conformer sampling was successful.\n"
     ]
    }
   ],
   "source": [
    "design.prepare_lig_conformers(\n",
    "    nconfs=50,         # Maximum number of conformers to produce (Sometimes these methods produce lower number of conformations)\n",
    "    method='genetic',  # Genetic method in OpenBabel, other option is confab\n",
    "    score='rmsd',      # Filters conformers based on RMSD\n",
    "    )"
   ]
  },
  {
   "cell_type": "code",
   "execution_count": 6,
   "id": "b2a2545c",
   "metadata": {},
   "outputs": [
    {
     "name": "stderr",
     "output_type": "stream",
     "text": [
      "2023-11-09 10:28:47,651 - pocketoptimizer.ui - INFO - If design positions are removed or added a new design run should be started.\n"
     ]
    }
   ],
   "source": [
    "# Your mutations\n",
    "design.set_mutations([{'mutations': ['LEU', 'THR'], 'resid': '88', 'chain': 'B'}, \n",
    "                      {'mutations': ['ARG'], 'resid': '84', 'chain': 'B'}, \n",
    "                      {'mutations': ['LEU','THR'], 'resid': '44', 'chain': 'A'}]\n",
    ")"
   ]
  },
  {
   "cell_type": "code",
   "execution_count": 7,
   "id": "e67d6dac",
   "metadata": {},
   "outputs": [
    {
     "name": "stderr",
     "output_type": "stream",
     "text": [
      "2023-11-09 10:28:48,425 - pocketoptimizer.ui - INFO - Start building mutated protein scaffold variants.\n",
      "2023-11-09 10:28:48,426 - pocketoptimizer.ui - INFO - Build GLY sampling pockets.\n",
      "2023-11-09 10:28:48,630 - pocketoptimizer.preparation.structure_building - INFO - Build ligand sampling pocket.\n",
      "2023-11-09 10:28:48,939 - htmd.builder.amber - INFO - Detecting disulfide bonds.\n",
      "2023-11-09 10:28:49,058 - pocketoptimizer.preparation.structure_building - INFO - Starting the build.\n",
      "2023-11-09 10:28:49,246 - pocketoptimizer.preparation.structure_building - INFO - Finished building.\n",
      "2023-11-09 10:28:49,949 - pocketoptimizer.preparation.structure_building - INFO - Build mutation: A_44_LEU.\n",
      "2023-11-09 10:28:50,275 - htmd.builder.amber - INFO - Detecting disulfide bonds.\n",
      "2023-11-09 10:28:50,373 - pocketoptimizer.preparation.structure_building - INFO - Starting the build.\n",
      "2023-11-09 10:28:50,557 - pocketoptimizer.preparation.structure_building - INFO - Finished building.\n",
      "2023-11-09 10:28:51,245 - pocketoptimizer.preparation.structure_building - INFO - Build mutation: A_44_THR.\n",
      "2023-11-09 10:28:51,492 - htmd.builder.amber - INFO - Detecting disulfide bonds.\n",
      "2023-11-09 10:28:51,589 - pocketoptimizer.preparation.structure_building - INFO - Starting the build.\n",
      "2023-11-09 10:28:51,776 - pocketoptimizer.preparation.structure_building - INFO - Finished building.\n",
      "2023-11-09 10:28:52,505 - pocketoptimizer.preparation.structure_building - INFO - Build mutation: B_84_ARG.\n",
      "2023-11-09 10:28:52,750 - htmd.builder.amber - INFO - Detecting disulfide bonds.\n",
      "2023-11-09 10:28:52,846 - pocketoptimizer.preparation.structure_building - INFO - Starting the build.\n",
      "2023-11-09 10:28:53,018 - pocketoptimizer.preparation.structure_building - INFO - Finished building.\n",
      "2023-11-09 10:28:53,701 - pocketoptimizer.preparation.structure_building - INFO - Build mutation: B_88_LEU.\n",
      "2023-11-09 10:28:54,003 - htmd.builder.amber - INFO - Detecting disulfide bonds.\n",
      "2023-11-09 10:28:54,096 - pocketoptimizer.preparation.structure_building - INFO - Starting the build.\n",
      "2023-11-09 10:28:54,285 - pocketoptimizer.preparation.structure_building - INFO - Finished building.\n",
      "2023-11-09 10:28:54,968 - pocketoptimizer.preparation.structure_building - INFO - Build mutation: B_88_THR.\n",
      "2023-11-09 10:28:55,234 - htmd.builder.amber - INFO - Detecting disulfide bonds.\n",
      "2023-11-09 10:28:55,325 - pocketoptimizer.preparation.structure_building - INFO - Starting the build.\n",
      "2023-11-09 10:28:55,503 - pocketoptimizer.preparation.structure_building - INFO - Finished building.\n",
      "2023-11-09 10:28:56,167 - pocketoptimizer.preparation.structure_building - INFO - Build mutation combination: A_44_LEU_B_84_ARG.\n",
      "2023-11-09 10:28:56,416 - htmd.builder.amber - INFO - Detecting disulfide bonds.\n",
      "2023-11-09 10:28:56,508 - pocketoptimizer.preparation.structure_building - INFO - Starting the build.\n",
      "2023-11-09 10:28:56,677 - pocketoptimizer.preparation.structure_building - INFO - Finished building.\n",
      "2023-11-09 10:28:57,356 - pocketoptimizer.preparation.structure_building - INFO - Build mutation combination: A_44_THR_B_84_ARG.\n",
      "2023-11-09 10:28:57,571 - htmd.builder.amber - INFO - Detecting disulfide bonds.\n",
      "2023-11-09 10:28:57,658 - pocketoptimizer.preparation.structure_building - INFO - Starting the build.\n",
      "2023-11-09 10:28:57,827 - pocketoptimizer.preparation.structure_building - INFO - Finished building.\n",
      "2023-11-09 10:28:58,502 - pocketoptimizer.preparation.structure_building - INFO - Build mutation combination: A_44_LEU_B_88_LEU.\n",
      "2023-11-09 10:28:58,749 - htmd.builder.amber - INFO - Detecting disulfide bonds.\n",
      "2023-11-09 10:28:58,838 - pocketoptimizer.preparation.structure_building - INFO - Starting the build.\n",
      "2023-11-09 10:28:59,010 - pocketoptimizer.preparation.structure_building - INFO - Finished building.\n",
      "2023-11-09 10:28:59,686 - pocketoptimizer.preparation.structure_building - INFO - Build mutation combination: A_44_LEU_B_88_THR.\n",
      "2023-11-09 10:28:59,901 - htmd.builder.amber - INFO - Detecting disulfide bonds.\n",
      "2023-11-09 10:28:59,993 - pocketoptimizer.preparation.structure_building - INFO - Starting the build.\n",
      "2023-11-09 10:29:00,167 - pocketoptimizer.preparation.structure_building - INFO - Finished building.\n",
      "2023-11-09 10:29:00,843 - pocketoptimizer.preparation.structure_building - INFO - Build mutation combination: A_44_THR_B_88_LEU.\n",
      "2023-11-09 10:29:01,092 - htmd.builder.amber - INFO - Detecting disulfide bonds.\n",
      "2023-11-09 10:29:01,206 - pocketoptimizer.preparation.structure_building - INFO - Starting the build.\n",
      "2023-11-09 10:29:01,391 - pocketoptimizer.preparation.structure_building - INFO - Finished building.\n",
      "2023-11-09 10:29:02,083 - pocketoptimizer.preparation.structure_building - INFO - Build mutation combination: A_44_THR_B_88_THR.\n",
      "2023-11-09 10:29:02,311 - htmd.builder.amber - INFO - Detecting disulfide bonds.\n",
      "2023-11-09 10:29:02,406 - pocketoptimizer.preparation.structure_building - INFO - Starting the build.\n",
      "2023-11-09 10:29:02,580 - pocketoptimizer.preparation.structure_building - INFO - Finished building.\n",
      "2023-11-09 10:29:03,304 - pocketoptimizer.preparation.structure_building - INFO - Build mutation combination: B_84_ARG_B_88_LEU.\n",
      "2023-11-09 10:29:03,523 - htmd.builder.amber - INFO - Detecting disulfide bonds.\n",
      "2023-11-09 10:29:03,618 - pocketoptimizer.preparation.structure_building - INFO - Starting the build.\n",
      "2023-11-09 10:29:03,788 - pocketoptimizer.preparation.structure_building - INFO - Finished building.\n",
      "2023-11-09 10:29:04,477 - pocketoptimizer.preparation.structure_building - INFO - Build mutation combination: B_84_ARG_B_88_THR.\n",
      "2023-11-09 10:29:04,730 - htmd.builder.amber - INFO - Detecting disulfide bonds.\n",
      "2023-11-09 10:29:04,814 - pocketoptimizer.preparation.structure_building - INFO - Starting the build.\n",
      "2023-11-09 10:29:04,981 - pocketoptimizer.preparation.structure_building - INFO - Finished building.\n",
      "2023-11-09 10:29:05,654 - pocketoptimizer.ui - INFO - Scaffold building done.\n"
     ]
    }
   ],
   "source": [
    "# Prepares all defined mutants and glycine scaffolds for side chain rotamer and ligand pose sampling\n",
    "design.prepare_mutants(sampling_pocket='GLY')"
   ]
  },
  {
   "cell_type": "code",
   "execution_count": 8,
   "id": "59578900",
   "metadata": {},
   "outputs": [
    {
     "name": "stderr",
     "output_type": "stream",
     "text": [
      "2023-11-09 10:29:09,326 - pocketoptimizer.sampling.sidechain_rotamers_ffev - INFO - Start rotamer sampling procedure using FFEvaluate.\n",
      "2023-11-09 10:29:09,606 - pocketoptimizer.sampling.sidechain_rotamers_ffev - INFO - Rotamers for residue: A_44_LEU not sampled yet.\n"
     ]
    },
    {
     "data": {
      "application/vnd.jupyter.widget-view+json": {
       "model_id": "a1acbe48683241098a48dd736c1637e3",
       "version_major": 2,
       "version_minor": 0
      },
      "text/plain": [
       "A_44_LEU:   0%|          | 0/27 [00:00<?, ?it/s]"
      ]
     },
     "metadata": {},
     "output_type": "display_data"
    },
    {
     "name": "stderr",
     "output_type": "stream",
     "text": [
      "2023-11-09 10:29:16,115 - pocketoptimizer.sampling.sidechain_rotamers_ffev - INFO - Writing 18/27 rotamers within energy threshold of 100 kcal/mol for LEU at position: A_44.\n",
      "2023-11-09 10:29:16,128 - pocketoptimizer.sampling.sidechain_rotamers_ffev - INFO - Rotamers for residue: A_44_THR not sampled yet.\n"
     ]
    },
    {
     "data": {
      "application/vnd.jupyter.widget-view+json": {
       "model_id": "4e0e05da867d4a7181cba4cc5b010a3c",
       "version_major": 2,
       "version_minor": 0
      },
      "text/plain": [
       "A_44_THR:   0%|          | 0/9 [00:00<?, ?it/s]"
      ]
     },
     "metadata": {},
     "output_type": "display_data"
    },
    {
     "name": "stderr",
     "output_type": "stream",
     "text": [
      "2023-11-09 10:29:21,405 - pocketoptimizer.sampling.sidechain_rotamers_ffev - INFO - Writing 6/9 rotamers within energy threshold of 100 kcal/mol for THR at position: A_44.\n",
      "2023-11-09 10:29:21,412 - pocketoptimizer.sampling.sidechain_rotamers_ffev - INFO - Rotamers for residue: B_84_ARG not sampled yet.\n"
     ]
    },
    {
     "data": {
      "application/vnd.jupyter.widget-view+json": {
       "model_id": "2e656ff8ca9a4adca6643e6673424f85",
       "version_major": 2,
       "version_minor": 0
      },
      "text/plain": [
       "B_84_ARG:   0%|          | 0/180 [00:00<?, ?it/s]"
      ]
     },
     "metadata": {},
     "output_type": "display_data"
    },
    {
     "name": "stderr",
     "output_type": "stream",
     "text": [
      "2023-11-09 10:29:39,938 - pocketoptimizer.sampling.sidechain_rotamers_ffev - INFO - Writing 176/180 rotamers within energy threshold of 100 kcal/mol for ARG at position: B_84.\n",
      "2023-11-09 10:29:39,955 - pocketoptimizer.sampling.sidechain_rotamers_ffev - INFO - Rotamers for residue: B_88_LEU not sampled yet.\n"
     ]
    },
    {
     "data": {
      "application/vnd.jupyter.widget-view+json": {
       "model_id": "ae86896a444d40b89def58ed129e4341",
       "version_major": 2,
       "version_minor": 0
      },
      "text/plain": [
       "B_88_LEU:   0%|          | 0/45 [00:00<?, ?it/s]"
      ]
     },
     "metadata": {},
     "output_type": "display_data"
    },
    {
     "name": "stderr",
     "output_type": "stream",
     "text": [
      "2023-11-09 10:29:47,678 - pocketoptimizer.sampling.sidechain_rotamers_ffev - INFO - Writing 27/45 rotamers within energy threshold of 100 kcal/mol for LEU at position: B_88.\n",
      "2023-11-09 10:29:47,688 - pocketoptimizer.sampling.sidechain_rotamers_ffev - INFO - Rotamers for residue: B_88_THR not sampled yet.\n"
     ]
    },
    {
     "data": {
      "application/vnd.jupyter.widget-view+json": {
       "model_id": "a35db7cf7b924b33b0d2b7dd846e3d2c",
       "version_major": 2,
       "version_minor": 0
      },
      "text/plain": [
       "B_88_THR:   0%|          | 0/9 [00:00<?, ?it/s]"
      ]
     },
     "metadata": {},
     "output_type": "display_data"
    },
    {
     "name": "stderr",
     "output_type": "stream",
     "text": [
      "2023-11-09 10:29:52,983 - pocketoptimizer.sampling.sidechain_rotamers_ffev - INFO - Writing 6/9 rotamers within energy threshold of 100 kcal/mol for THR at position: B_88.\n",
      "2023-11-09 10:29:52,992 - pocketoptimizer.sampling.sidechain_rotamers_ffev - INFO - Rotamer sampling procedure is finished.\n"
     ]
    }
   ],
   "source": [
    "# Sampling of side chain rotamers\n",
    "design.sample_sidechain_rotamers(\n",
    "    vdw_filter_thresh=100,         # Energy threshold of 100 kcal/mol for filtering rotamers\n",
    "    library='dunbrack',            # Use dunbrack rotamer library (Should be used!)\n",
    "    dunbrack_filter_thresh=0.01    # Probability threshold for filtering rotamers (1%)\n",
    ")"
   ]
  },
  {
   "cell_type": "code",
   "execution_count": 9,
   "id": "b983bed0",
   "metadata": {},
   "outputs": [
    {
     "name": "stderr",
     "output_type": "stream",
     "text": [
      "2023-11-09 10:30:49,191 - pocketoptimizer.ui - INFO - Using 8 CPU(s) for multiprocessing.\n",
      "2023-11-09 10:30:49,193 - pocketoptimizer.ui - INFO - Sample ligand poses.\n",
      "2023-11-09 10:30:49,194 - pocketoptimizer.sampling.ligand_poses - INFO - Start ligand pose sampling procedure.\n",
      "2023-11-09 10:30:49,786 - pocketoptimizer.sampling.ligand_poses - INFO - Generate possible poses within the defined grid.\n"
     ]
    },
    {
     "data": {
      "application/vnd.jupyter.widget-view+json": {
       "model_id": "b811106f4fa748b1b3a3ef2610810410",
       "version_major": 2,
       "version_minor": 0
      },
      "text/plain": [
       "Ligand Conformer(s):   0%|          | 0/50 [00:00<?, ?it/s]"
      ]
     },
     "metadata": {},
     "output_type": "display_data"
    },
    {
     "name": "stderr",
     "output_type": "stream",
     "text": [
      "2023-11-09 10:30:49,823 - pocketoptimizer.sampling.ligand_poses - INFO - Created possible 4550 poses.\n",
      "2023-11-09 10:30:49,823 - pocketoptimizer.sampling.ligand_poses - INFO - Start filtering poses.\n",
      "2023-11-09 10:30:49,823 - pocketoptimizer.sampling.ligand_poses - INFO - Using 8 CPU(s) for multiprocessing.\n"
     ]
    },
    {
     "data": {
      "application/vnd.jupyter.widget-view+json": {
       "model_id": "8007f44c236c42018c86f4e2368c11dc",
       "version_major": 2,
       "version_minor": 0
      },
      "text/plain": [
       "Filter Pose(s):   0%|          | 0/4550 [00:00<?, ?it/s]"
      ]
     },
     "metadata": {},
     "output_type": "display_data"
    },
    {
     "name": "stderr",
     "output_type": "stream",
     "text": [
      "2023-11-09 10:35:44,547 - pocketoptimizer.sampling.ligand_poses - INFO - Calculated 820 pose(s) within energy threshold of 100 kcal/mol.\n",
      "2023-11-09 10:35:44,579 - pocketoptimizer.sampling.ligand_poses - INFO - Pose sampling procedure was successful.\n"
     ]
    }
   ],
   "source": [
    "# Sampling of ligand poses\n",
    "# Defines a grid in which the ligand is translated and rotated along.\n",
    "#                       Range, Steps\n",
    "sample_grid = {'trans': [1, 0.5],  # Angstrom\n",
    "               'rot': [20, 20]}    # Degree\n",
    "design.sample_lig_poses(\n",
    "    method='grid',         #  Uses the grid method. Other option is random\n",
    "    grid=sample_grid,      #  Defined grid for sampling    \n",
    "    vdw_filter_thresh=100, #  Energy threshold of 100 kcal/mol for filtering ligand poses\n",
    "    max_poses=10000        #  Maximum number of poses\n",
    ")"
   ]
  },
  {
   "cell_type": "code",
   "execution_count": 10,
   "id": "bb7a35d1",
   "metadata": {
    "tags": []
   },
   "outputs": [
    {
     "name": "stderr",
     "output_type": "stream",
     "text": [
      "2023-11-09 10:35:44,611 - pocketoptimizer.ui - INFO - Start energy calculations.\n",
      "2023-11-09 10:35:44,612 - pocketoptimizer.ui - INFO - Using 8 CPU(s) for multiprocessing.\n",
      "2023-11-09 10:35:44,612 - pocketoptimizer.ui - INFO - Calculate Sidechain-Scaffold Energies.\n",
      "2023-11-09 10:35:44,613 - pocketoptimizer.scoring.sidechain_scaffold_energies - INFO - Compute energies using forcefield: amber_ff14SB.\n",
      "2023-11-09 10:35:44,647 - pocketoptimizer.scoring.sidechain_scaffold_energies - INFO - Sidechain-Scaffold interaction energy for residue: A_44_LEU not computed yet.\n"
     ]
    },
    {
     "data": {
      "application/vnd.jupyter.widget-view+json": {
       "model_id": "c0d4a2cb6471416db082554f547902c7",
       "version_major": 2,
       "version_minor": 0
      },
      "text/plain": [
       "  0%|          | 0/18 [00:00<?, ?it/s]"
      ]
     },
     "metadata": {},
     "output_type": "display_data"
    },
    {
     "name": "stderr",
     "output_type": "stream",
     "text": [
      "2023-11-09 10:35:49,444 - pocketoptimizer.scoring.sidechain_scaffold_energies - INFO - Sidechain-Scaffold interaction energy for residue: A_44_THR not computed yet.\n"
     ]
    },
    {
     "data": {
      "application/vnd.jupyter.widget-view+json": {
       "model_id": "5e05483636ca470880973679600cfac5",
       "version_major": 2,
       "version_minor": 0
      },
      "text/plain": [
       "  0%|          | 0/6 [00:00<?, ?it/s]"
      ]
     },
     "metadata": {},
     "output_type": "display_data"
    },
    {
     "name": "stderr",
     "output_type": "stream",
     "text": [
      "2023-11-09 10:35:53,180 - pocketoptimizer.scoring.sidechain_scaffold_energies - INFO - Sidechain-Scaffold interaction energy for residue: B_84_ARG not computed yet.\n"
     ]
    },
    {
     "data": {
      "application/vnd.jupyter.widget-view+json": {
       "model_id": "5b286b07a3df4553b4c15129bcf5d971",
       "version_major": 2,
       "version_minor": 0
      },
      "text/plain": [
       "  0%|          | 0/176 [00:00<?, ?it/s]"
      ]
     },
     "metadata": {},
     "output_type": "display_data"
    },
    {
     "name": "stderr",
     "output_type": "stream",
     "text": [
      "2023-11-09 10:36:01,230 - pocketoptimizer.scoring.sidechain_scaffold_energies - INFO - Sidechain-Scaffold interaction energy for residue: B_88_LEU not computed yet.\n"
     ]
    },
    {
     "data": {
      "application/vnd.jupyter.widget-view+json": {
       "model_id": "d14b3b606e1a4cc19724221887d00285",
       "version_major": 2,
       "version_minor": 0
      },
      "text/plain": [
       "  0%|          | 0/27 [00:00<?, ?it/s]"
      ]
     },
     "metadata": {},
     "output_type": "display_data"
    },
    {
     "name": "stderr",
     "output_type": "stream",
     "text": [
      "2023-11-09 10:36:06,072 - pocketoptimizer.scoring.sidechain_scaffold_energies - INFO - Sidechain-Scaffold interaction energy for residue: B_88_THR not computed yet.\n"
     ]
    },
    {
     "data": {
      "application/vnd.jupyter.widget-view+json": {
       "model_id": "f27334bde0a9446aa42907039ba3a2e6",
       "version_major": 2,
       "version_minor": 0
      },
      "text/plain": [
       "  0%|          | 0/6 [00:00<?, ?it/s]"
      ]
     },
     "metadata": {},
     "output_type": "display_data"
    },
    {
     "name": "stderr",
     "output_type": "stream",
     "text": [
      "2023-11-09 10:36:09,758 - pocketoptimizer.scoring.sidechain_scaffold_energies - INFO - Sidechain-Scaffold calculation was successful.\n",
      "2023-11-09 10:36:09,759 - pocketoptimizer.ui - INFO - Calculate Sidechain-Pair Energies.\n",
      "2023-11-09 10:36:09,759 - pocketoptimizer.scoring.sidechain_pair_energies - INFO - Compute energies using forcefield: amber_ff14SB.\n",
      "2023-11-09 10:36:09,890 - pocketoptimizer.scoring.sidechain_pair_energies - INFO - Sidechain-Sidechain interaction energy for residue pair: A_44_LEU/B_84_ARG not computed yet.\n"
     ]
    },
    {
     "data": {
      "application/vnd.jupyter.widget-view+json": {
       "model_id": "1d7a2b395e3246db9fb7a5e0fe227ea3",
       "version_major": 2,
       "version_minor": 0
      },
      "text/plain": [
       "  0%|          | 0/3168 [00:00<?, ?it/s]"
      ]
     },
     "metadata": {},
     "output_type": "display_data"
    },
    {
     "name": "stderr",
     "output_type": "stream",
     "text": [
      "2023-11-09 10:36:14,920 - pocketoptimizer.scoring.sidechain_pair_energies - INFO - Sidechain-Sidechain interaction energy for residue pair: A_44_THR/B_84_ARG not computed yet.\n"
     ]
    },
    {
     "data": {
      "application/vnd.jupyter.widget-view+json": {
       "model_id": "76685b91df2947eca6acedeea2027194",
       "version_major": 2,
       "version_minor": 0
      },
      "text/plain": [
       "  0%|          | 0/1056 [00:00<?, ?it/s]"
      ]
     },
     "metadata": {},
     "output_type": "display_data"
    },
    {
     "name": "stderr",
     "output_type": "stream",
     "text": [
      "2023-11-09 10:36:19,852 - pocketoptimizer.scoring.sidechain_pair_energies - INFO - Sidechain-Sidechain interaction energy for residue pair: A_44_LEU/B_88_LEU not computed yet.\n"
     ]
    },
    {
     "data": {
      "application/vnd.jupyter.widget-view+json": {
       "model_id": "ec32ab791b964529850187f5253d01cc",
       "version_major": 2,
       "version_minor": 0
      },
      "text/plain": [
       "  0%|          | 0/486 [00:00<?, ?it/s]"
      ]
     },
     "metadata": {},
     "output_type": "display_data"
    },
    {
     "name": "stderr",
     "output_type": "stream",
     "text": [
      "2023-11-09 10:36:24,330 - pocketoptimizer.scoring.sidechain_pair_energies - INFO - Sidechain-Sidechain interaction energy for residue pair: A_44_LEU/B_88_THR not computed yet.\n"
     ]
    },
    {
     "data": {
      "application/vnd.jupyter.widget-view+json": {
       "model_id": "62d59477b43d4a23b71ea74b63bfaaa1",
       "version_major": 2,
       "version_minor": 0
      },
      "text/plain": [
       "  0%|          | 0/108 [00:00<?, ?it/s]"
      ]
     },
     "metadata": {},
     "output_type": "display_data"
    },
    {
     "name": "stderr",
     "output_type": "stream",
     "text": [
      "2023-11-09 10:36:28,992 - pocketoptimizer.scoring.sidechain_pair_energies - INFO - Sidechain-Sidechain interaction energy for residue pair: A_44_THR/B_88_LEU not computed yet.\n"
     ]
    },
    {
     "data": {
      "application/vnd.jupyter.widget-view+json": {
       "model_id": "76b506d8f2874fbb90eb900cd31a3df5",
       "version_major": 2,
       "version_minor": 0
      },
      "text/plain": [
       "  0%|          | 0/162 [00:00<?, ?it/s]"
      ]
     },
     "metadata": {},
     "output_type": "display_data"
    },
    {
     "name": "stderr",
     "output_type": "stream",
     "text": [
      "2023-11-09 10:36:33,595 - pocketoptimizer.scoring.sidechain_pair_energies - INFO - Sidechain-Sidechain interaction energy for residue pair: A_44_THR/B_88_THR not computed yet.\n"
     ]
    },
    {
     "data": {
      "application/vnd.jupyter.widget-view+json": {
       "model_id": "3f6697708982440282616fd6fcf1f9ec",
       "version_major": 2,
       "version_minor": 0
      },
      "text/plain": [
       "  0%|          | 0/36 [00:00<?, ?it/s]"
      ]
     },
     "metadata": {},
     "output_type": "display_data"
    },
    {
     "name": "stderr",
     "output_type": "stream",
     "text": [
      "2023-11-09 10:36:38,359 - pocketoptimizer.scoring.sidechain_pair_energies - INFO - Sidechain-Sidechain interaction energy for residue pair: B_84_ARG/B_88_LEU not computed yet.\n"
     ]
    },
    {
     "data": {
      "application/vnd.jupyter.widget-view+json": {
       "model_id": "291f91f458ff48afa1d6c0625372e4d8",
       "version_major": 2,
       "version_minor": 0
      },
      "text/plain": [
       "  0%|          | 0/4752 [00:00<?, ?it/s]"
      ]
     },
     "metadata": {},
     "output_type": "display_data"
    },
    {
     "name": "stderr",
     "output_type": "stream",
     "text": [
      "2023-11-09 10:36:43,648 - pocketoptimizer.scoring.sidechain_pair_energies - INFO - Sidechain-Sidechain interaction energy for residue pair: B_84_ARG/B_88_THR not computed yet.\n"
     ]
    },
    {
     "data": {
      "application/vnd.jupyter.widget-view+json": {
       "model_id": "9a2ef490060345aa9c781cca39f8778e",
       "version_major": 2,
       "version_minor": 0
      },
      "text/plain": [
       "  0%|          | 0/1056 [00:00<?, ?it/s]"
      ]
     },
     "metadata": {},
     "output_type": "display_data"
    },
    {
     "name": "stderr",
     "output_type": "stream",
     "text": [
      "2023-11-09 10:36:48,306 - pocketoptimizer.scoring.sidechain_pair_energies - INFO - Sidechain-Pair calculation was successful.\n",
      "2023-11-09 10:36:48,307 - pocketoptimizer.ui - INFO - Calculate Ligand-Scaffold/Sidechain-Interaction-Energies.\n",
      "2023-11-09 10:36:48,315 - pocketoptimizer.scoring.smina_scorer - INFO - Score ligand interactions using vina.\n",
      "2023-11-09 10:36:48,849 - pocketoptimizer.scoring.smina_scorer - INFO - Ligand-Scaffold interaction energy not computed yet.\n",
      "2023-11-09 10:36:48,849 - pocketoptimizer.scoring.smina_scorer - INFO - Prepare fixed scaffold.\n"
     ]
    },
    {
     "data": {
      "application/vnd.jupyter.widget-view+json": {
       "model_id": "6402077d26ae44d29e1e180b8ce80b6f",
       "version_major": 2,
       "version_minor": 0
      },
      "text/plain": [
       "Ligand/Scaffold:   0%|          | 0/1 [00:00<?, ?it/s]"
      ]
     },
     "metadata": {},
     "output_type": "display_data"
    },
    {
     "name": "stderr",
     "output_type": "stream",
     "text": [
      "2023-11-09 10:36:50,217 - pocketoptimizer.scoring.smina_scorer - INFO - Ligand-Sidechain interaction energy for residue: A_44_LEU not computed yet.\n"
     ]
    },
    {
     "data": {
      "application/vnd.jupyter.widget-view+json": {
       "model_id": "7fb0e113a37b4fab98b756786079318d",
       "version_major": 2,
       "version_minor": 0
      },
      "text/plain": [
       "Ligand/A_44_LEU:   0%|          | 0/18 [00:00<?, ?it/s]"
      ]
     },
     "metadata": {},
     "output_type": "display_data"
    },
    {
     "name": "stderr",
     "output_type": "stream",
     "text": [
      "2023-11-09 10:36:56,555 - pocketoptimizer.scoring.smina_scorer - INFO - Ligand-Sidechain interaction energy for residue: A_44_THR not computed yet.\n"
     ]
    },
    {
     "data": {
      "application/vnd.jupyter.widget-view+json": {
       "model_id": "3b53fe67c32e4eb98f54865367b1abef",
       "version_major": 2,
       "version_minor": 0
      },
      "text/plain": [
       "Ligand/A_44_THR:   0%|          | 0/6 [00:00<?, ?it/s]"
      ]
     },
     "metadata": {},
     "output_type": "display_data"
    },
    {
     "name": "stderr",
     "output_type": "stream",
     "text": [
      "2023-11-09 10:36:58,648 - pocketoptimizer.scoring.smina_scorer - INFO - Ligand-Sidechain interaction energy for residue: B_84_ARG not computed yet.\n"
     ]
    },
    {
     "data": {
      "application/vnd.jupyter.widget-view+json": {
       "model_id": "a61500e4e20c4b058d073fbd2a91b3a1",
       "version_major": 2,
       "version_minor": 0
      },
      "text/plain": [
       "Ligand/B_84_ARG:   0%|          | 0/176 [00:00<?, ?it/s]"
      ]
     },
     "metadata": {},
     "output_type": "display_data"
    },
    {
     "name": "stderr",
     "output_type": "stream",
     "text": [
      "2023-11-09 10:38:10,066 - pocketoptimizer.scoring.smina_scorer - INFO - Ligand-Sidechain interaction energy for residue: B_88_LEU not computed yet.\n"
     ]
    },
    {
     "data": {
      "application/vnd.jupyter.widget-view+json": {
       "model_id": "d2e10302d59c48fca6b6fdee79d510ed",
       "version_major": 2,
       "version_minor": 0
      },
      "text/plain": [
       "Ligand/B_88_LEU:   0%|          | 0/27 [00:00<?, ?it/s]"
      ]
     },
     "metadata": {},
     "output_type": "display_data"
    },
    {
     "name": "stderr",
     "output_type": "stream",
     "text": [
      "2023-11-09 10:38:22,301 - pocketoptimizer.scoring.smina_scorer - INFO - Ligand-Sidechain interaction energy for residue: B_88_THR not computed yet.\n"
     ]
    },
    {
     "data": {
      "application/vnd.jupyter.widget-view+json": {
       "model_id": "9ecd180f5bcc48dda1c0500f214c4362",
       "version_major": 2,
       "version_minor": 0
      },
      "text/plain": [
       "Ligand/B_88_THR:   0%|          | 0/6 [00:00<?, ?it/s]"
      ]
     },
     "metadata": {},
     "output_type": "display_data"
    },
    {
     "name": "stderr",
     "output_type": "stream",
     "text": [
      "2023-11-09 10:38:24,978 - pocketoptimizer.scoring.smina_scorer - INFO - Ligand scoring was successful.\n",
      "2023-11-09 10:38:24,978 - pocketoptimizer.ui - INFO - Energy calculation was successful.\n"
     ]
    }
   ],
   "source": [
    "design.calculate_energies(\n",
    "    scoring='vina',           #  Method to score protein-ligand interaction\n",
    ")"
   ]
  },
  {
   "cell_type": "code",
   "execution_count": 12,
   "id": "d7d2cd60",
   "metadata": {
    "tags": []
   },
   "outputs": [
    {
     "name": "stderr",
     "output_type": "stream",
     "text": [
      "2023-11-09 10:38:41,727 - pocketoptimizer.solving.sontag_solver - INFO - Calculating Solutions.\n"
     ]
    },
    {
     "data": {
      "application/vnd.jupyter.widget-view+json": {
       "model_id": "1e2db94e33014ac4aa613dc5cada2038",
       "version_major": 2,
       "version_minor": 0
      },
      "text/plain": [
       "Solutions:   0%|          | 0/10 [00:00<?, ?it/s]"
      ]
     },
     "metadata": {},
     "output_type": "display_data"
    },
    {
     "name": "stderr",
     "output_type": "stream",
     "text": [
      "2023-11-09 10:38:49,116 - pocketoptimizer.ui - INFO - Parse calculated solutions.\n",
      "2023-11-09 10:38:49,217 - pocketoptimizer.ui - INFO - Read 10 solution(s) from solver output.\n",
      "2023-11-09 10:38:50,100 - pocketoptimizer.ui - INFO - Write text report.\n",
      "2023-11-09 10:38:50,139 - pocketoptimizer.ui - INFO - Wrote solution report text file(s).\n",
      "2023-11-09 10:38:50,141 - pocketoptimizer.ui - INFO - Wrote summary text file.\n",
      "2023-11-09 10:38:50,142 - pocketoptimizer.ui - INFO - Write html report.\n",
      "2023-11-09 10:38:50,205 - pocketoptimizer.ui - INFO - Wrote solution report html file(s).\n",
      "2023-11-09 10:38:50,206 - pocketoptimizer.design.html_reporter - INFO - Create energy plot.\n",
      "2023-11-09 10:38:50,432 - pocketoptimizer.design.html_reporter - INFO - Create sequence logo for mutable positions.\n"
     ]
    },
    {
     "data": {
      "image/png": "[encoded data removed]",
      "text/plain": [
       "<IPython.core.display.Image object>"
      ]
     },
     "metadata": {},
     "output_type": "display_data"
    },
    {
     "name": "stderr",
     "output_type": "stream",
     "text": [
      "2023-11-09 10:38:50,697 - pocketoptimizer.ui - INFO - Wrote summary html file.\n",
      "2023-11-09 10:38:50,698 - pocketoptimizer.ui - INFO - Creating design structure files.\n",
      "2023-11-09 10:38:50,699 - pocketoptimizer.ui - INFO - Create Structures.\n",
      "2023-11-09 10:38:53,858 - pocketoptimizer.ui - INFO - Creating PyMol scripts.\n",
      "2023-11-09 10:38:53,879 - pocketoptimizer.ui - INFO - 10 best design solution(s) for design with forcefield: amber_ff14SB, scoring method: vina and ligand scaling: 5 identified.\n"
     ]
    },
    {
     "data": {
      "image/png": "[encoded data removed]",
      "text/plain": [
       "<Figure size 640x480 with 1 Axes>"
      ]
     },
     "metadata": {},
     "output_type": "display_data"
    }
   ],
   "source": [
    "# Compute the lowest energy structures using linear programming\n",
    "design.design(\n",
    "    num_solutions=10,           #  Number of solutions to compute\n",
    "    ligand_scaling=5,          #  Scaling factor for binding-related energies (You need to adapt this to approximate the packing and binding energies)\n",
    ")"
   ]
  },
  {
   "cell_type": "code",
   "execution_count": 3,
   "id": "a4510d5f-c706-4cf7-825e-45556ec12d2b",
   "metadata": {},
   "outputs": [
    {
     "name": "stderr",
     "output_type": "stream",
     "text": [
      "2023-11-08 16:55:36,402 - pocketoptimizer.ui - INFO - No scaffold files found.\n",
      "2023-11-08 16:55:36,404 - pocketoptimizer.ui - INFO - All scaffold files were deleted.\n",
      "2023-11-08 16:55:36,406 - pocketoptimizer.ui - INFO - No ligand files found.\n",
      "2023-11-08 16:55:36,406 - pocketoptimizer.ui - INFO - All ligand files were deleted.\n",
      "2023-11-08 16:55:36,408 - pocketoptimizer.ui - INFO - Logfile was deleted.\n"
     ]
    }
   ],
   "source": [
    "# Do not run this unless you want to fully clean your working directory from all created files and folders!\n",
    "design.clean(scaffold=True, ligand=True)"
   ]
  },
  {
   "cell_type": "code",
   "execution_count": null,
   "id": "6e8ac38d-0f89-42c1-84c8-d8073419cb19",
   "metadata": {},
   "outputs": [],
   "source": []
  }
 ],
 "metadata": {
  "kernelspec": {
   "display_name": "pocketoptimizer",
   "language": "python",
   "name": "pocketoptimizer"
  },
  "language_info": {
   "codemirror_mode": {
    "name": "ipython",
    "version": 3
   },
   "file_extension": ".py",
   "mimetype": "text/x-python",
   "name": "python",
   "nbconvert_exporter": "python",
   "pygments_lexer": "ipython3",
   "version": "3.10.13"
  }
 },
 "nbformat": 4,
 "nbformat_minor": 5
}
