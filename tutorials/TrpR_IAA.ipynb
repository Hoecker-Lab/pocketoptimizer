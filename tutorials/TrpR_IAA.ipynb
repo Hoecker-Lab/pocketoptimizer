{
 "cells": [
  {
   "cell_type": "markdown",
   "id": "f3d596fc-7ec4-4d0f-9f59-cfd55ab994a7",
   "metadata": {},
   "source": [
    "## TrpR_IAA"
   ]
  },
  {
   "cell_type": "markdown",
   "id": "621603ed-1568-4797-8914-3ddd9456a93c",
   "metadata": {},
   "source": [
    "Exemplary design of the trpytophane repressor (PDB: 1ZT9) with the ligand indole-3-acetic acid (IAA)."
   ]
  },
  {
   "cell_type": "code",
   "execution_count": 1,
   "id": "d23d8c90",
   "metadata": {},
   "outputs": [],
   "source": [
    "# This is a comment. It's marked by a leading \"#\" symbol\n",
    "\n",
    "# Import OS and system libraries\n",
    "import sys\n",
    "import os\n",
    "import logging\n",
    "\n",
    "# Append the pocketoptimizer code to your $PYTHONPATH\n",
    "cwd = os.getcwd()\n",
    "po_dir = os.path.abspath(os.path.join(cwd, '..'))\n",
    "project_dir = os.path.join(cwd, 'TrpR_IAA')\n",
    "if not po_dir in sys.path:\n",
    "    sys.path.insert(0, po_dir)\n",
    "\n",
    "# Import Pocketoptimizer\n",
    "import pocketoptimizer as po\n",
    "\n",
    "# Remove most warnings, only show Errors\n",
    "import warnings\n",
    "warnings.simplefilter(action='ignore', category=FutureWarning)\n",
    "warnings.simplefilter(action='ignore', category=DeprecationWarning)"
   ]
  },
  {
   "cell_type": "code",
   "execution_count": 2,
   "id": "20beea30",
   "metadata": {},
   "outputs": [
    {
     "name": "stderr",
     "output_type": "stream",
     "text": [
      "2023-07-06 11:03:37,791 - pocketoptimizer.ui - INFO - Logging to: /agh/projects/jakob/PycharmProjects/PocketOptimizer2/docs/tutorials/TrpR_IAA/pocketoptimizer.log\n"
     ]
    }
   ],
   "source": [
    "# Initialize a new design pipeline\n",
    "design = po.DesignPipeline(work_dir=project_dir,         # Path to working directory containing scaffold and ligand subdirectory\n",
    "                           ph=7,                         # pH used for protein and ligand protonation\n",
    "                           forcefield='amber_ff14SB',    # forcefield used for all energy computations (Use Amber as it is better tested!)\n",
    "                           ncpus=8)                      # Number of CPUs for multiprocessing"
   ]
  },
  {
   "cell_type": "markdown",
   "id": "55fca39b-aa2a-4752-bc42-7182d31b7012",
   "metadata": {},
   "source": [
    "### From now on you are inside the directory of your design!"
   ]
  },
  {
   "cell_type": "code",
   "execution_count": 3,
   "id": "a4513f1b",
   "metadata": {},
   "outputs": [
    {
     "name": "stderr",
     "output_type": "stream",
     "text": [
      "2023-07-06 11:03:54,602 - numexpr.utils - INFO - Note: NumExpr detected 16 cores but \"NUMEXPR_MAX_THREADS\" not set, so enforcing safe limit of 8.\n",
      "2023-07-06 11:03:54,604 - numexpr.utils - INFO - NumExpr defaulting to 8 threads.\n",
      "beignet-opencl-icd: no supported GPU found, this is probably the wrong opencl-icd package for this hardware\n",
      "(If you have multiple ICDs installed and OpenCL works, you can ignore this message)\n",
      "beignet-opencl-icd: no supported GPU found, this is probably the wrong opencl-icd package for this hardware\n",
      "(If you have multiple ICDs installed and OpenCL works, you can ignore this message)\n",
      "2023-07-06 11:04:05,931 - root - WARNING - Warning: importing 'simtk.openmm' is deprecated.  Import 'openmm' instead.\n",
      "2023-07-06 11:04:12,980 - pocketoptimizer.preparation.structure_building - INFO - Adding hydrogen atoms to the ligand according to pH: 7.\n",
      "2023-07-06 11:04:15,895 - pocketoptimizer.preparation.structure_building - INFO - Parameterize ligand for GAFF2.\n",
      "2023-07-06 11:04:16,370 - pocketoptimizer.preparation.structure_building - INFO - Ligand parametrization was successful.\n"
     ]
    }
   ],
   "source": [
    "# Prepare ligand\n",
    "design.parameterize_ligand(input_ligand='ligand/IAA.sdf',  # Input ligand structure file could be .mol2/.sdf\n",
    "                           addHs=True                      # Whether to add hydrogen atoms to the input structure\n",
    "                           )"
   ]
  },
  {
   "cell_type": "code",
   "execution_count": 4,
   "id": "6358191d",
   "metadata": {},
   "outputs": [
    {
     "name": "stderr",
     "output_type": "stream",
     "text": [
      "2023-07-06 11:04:16,390 - pocketoptimizer.ui - INFO - Start Protein Preparation.\n",
      "2023-07-06 11:04:16,774 - pocketoptimizer.preparation.structure_building - INFO - Protonate protein according to pH: 7.\n",
      "2023-07-06 11:04:20,014 - moleculekit.tools.preparation - WARNING - Both chains and segments are defined in Molecule.chain / Molecule.segid, however they are inconsistent. Protein preparation will use the chain information.\n"
     ]
    },
    {
     "name": "stdout",
     "output_type": "stream",
     "text": [
      "\n",
      "---- Molecule chain report ----\n",
      "Chain A:\n",
      "    First residue: SER     5  \n",
      "    Final residue: LEU   105  \n",
      "Chain B:\n",
      "    First residue: SER     5  \n",
      "    Final residue: TRP   901  \n",
      "---- End of chain report ----\n",
      "\n"
     ]
    },
    {
     "name": "stderr",
     "output_type": "stream",
     "text": [
      "2023-07-06 11:04:22,426 - moleculekit.tools.preparation - INFO - Modified residue HIS    16 A to HID\n",
      "2023-07-06 11:04:22,427 - moleculekit.tools.preparation - INFO - Modified residue HIS    35 A to HID\n",
      "2023-07-06 11:04:22,428 - moleculekit.tools.preparation - INFO - Modified residue HIS    16 B to HID\n",
      "2023-07-06 11:04:22,429 - moleculekit.tools.preparation - INFO - Modified residue HIS    35 B to HID\n",
      "2023-07-06 11:04:22,430 - moleculekit.tools.preparation - WARNING - Dubious protonation state: the pKa of 2 residues is within 1.0 units of pH 7.0.\n",
      "2023-07-06 11:04:22,431 - moleculekit.tools.preparation - WARNING - Dubious protonation state:    HIS    16 A (pKa= 6.16)\n",
      "2023-07-06 11:04:22,432 - moleculekit.tools.preparation - WARNING - Dubious protonation state:    HIS    16 B (pKa= 6.24)\n",
      "2023-07-06 11:04:26,777 - pocketoptimizer.preparation.structure_building - INFO - Successfully prepared protein structure.\n",
      "2023-07-06 11:04:26,778 - pocketoptimizer.ui - INFO - Building complex.\n",
      "2023-07-06 11:04:26,997 - pocketoptimizer.preparation.structure_building - INFO - Build native complex.\n",
      "2023-07-06 11:04:27,433 - htmd.builder.amber - INFO - Detecting disulfide bonds.\n",
      "2023-07-06 11:04:28,307 - pocketoptimizer.preparation.structure_building - INFO - Starting the build.\n",
      "2023-07-06 11:04:29,474 - pocketoptimizer.preparation.structure_building - INFO - Finished building.\n",
      "2023-07-06 11:04:33,304 - pocketoptimizer.preparation.structure_building - INFO - Starting potential energy: -613.4546210147889 kcal/mol.\n",
      "2023-07-06 11:04:54,248 - pocketoptimizer.preparation.structure_building - INFO - Ending potential energy: -6562.0835255640295 kcal/mol.\n",
      "2023-07-06 11:04:54,686 - pocketoptimizer.preparation.structure_building - INFO - RMSD between minimized and unminimized structure: 0.8813 Å.\n",
      "2023-07-06 11:04:54,920 - pocketoptimizer.ui - INFO - Your protein was successfully minimized and can be used for design now.\n",
      "2023-07-06 11:04:54,921 - pocketoptimizer.ui - INFO - Protein preparation finished.\n"
     ]
    }
   ],
   "source": [
    "design.prepare_protein(\n",
    "    protein_structure='scaffold/1ZT9.pdb',  # Input PDB\n",
    "    keep_chains=['A', 'B'],  # Specific protein chains to keep\n",
    "    backbone_restraint=True, # Restrains the backbone during the minimization\n",
    "    cuda=False,               # Performs minimization on CPU instead of GPU\n",
    "    discard_mols=[{'chain': 'A', 'resid': '1001'}]     # Special molecules to exclude. Per default everything, but peptides have to be defined manually\n",
    "    )"
   ]
  },
  {
   "cell_type": "code",
   "execution_count": 5,
   "id": "b9e4e7fa",
   "metadata": {},
   "outputs": [
    {
     "name": "stderr",
     "output_type": "stream",
     "text": [
      "2023-07-06 11:04:54,944 - pocketoptimizer.sampling.conformer_generator_obabel - INFO - Starting ligand conformer generation using obabel.\n",
      "2023-07-06 11:04:54,944 - pocketoptimizer.sampling.conformer_generator_obabel - INFO - Selected Method: genetic.\n",
      "2023-07-06 11:04:55,642 - pocketoptimizer.sampling.conformer_generator_obabel - INFO - Generated 50 conformers.\n",
      "2023-07-06 11:04:55,644 - pocketoptimizer.sampling.conformer_generator_obabel - INFO - Conformer sampling was successful.\n"
     ]
    }
   ],
   "source": [
    "design.prepare_lig_conformers(\n",
    "    nconfs=50,         # Maximum number of conformers to produce (Sometimes these methods produce lower number of conformations)\n",
    "    method='genetic',  # Genetic method in OpenBabel, other option is confab\n",
    "    score='rmsd',      # Filters conformers based on RMSD\n",
    "    )"
   ]
  },
  {
   "cell_type": "code",
   "execution_count": 6,
   "id": "b2a2545c",
   "metadata": {},
   "outputs": [
    {
     "name": "stderr",
     "output_type": "stream",
     "text": [
      "2023-07-06 11:04:55,656 - pocketoptimizer.ui - INFO - If design positions are removed or added a new design run should be started.\n"
     ]
    }
   ],
   "source": [
    "# Your mutations\n",
    "design.set_mutations([{'mutations': ['LEU', 'THR'], 'resid': '88', 'chain': 'B'}, \n",
    "                      {'mutations': ['ARG'], 'resid': '84', 'chain': 'B'}, \n",
    "                      {'mutations': ['LEU','THR'], 'resid': '44', 'chain': 'A'}]\n",
    ")"
   ]
  },
  {
   "cell_type": "code",
   "execution_count": null,
   "id": "e67d6dac",
   "metadata": {},
   "outputs": [
    {
     "name": "stderr",
     "output_type": "stream",
     "text": [
      "2023-07-06 11:04:56,277 - pocketoptimizer.ui - INFO - Start building mutated protein scaffold variants.\n",
      "2023-07-06 11:04:56,278 - pocketoptimizer.ui - INFO - Build GLY sampling pockets.\n",
      "2023-07-06 11:04:56,761 - pocketoptimizer.preparation.structure_building - INFO - Build ligand sampling pocket.\n",
      "2023-07-06 11:04:57,224 - htmd.builder.amber - INFO - Detecting disulfide bonds.\n",
      "2023-07-06 11:04:57,470 - pocketoptimizer.preparation.structure_building - INFO - Starting the build.\n",
      "2023-07-06 11:04:57,813 - pocketoptimizer.preparation.structure_building - INFO - Finished building.\n",
      "2023-07-06 11:04:59,280 - pocketoptimizer.preparation.structure_building - INFO - Build mutation: A_44_LEU.\n",
      "2023-07-06 11:04:59,781 - htmd.builder.amber - INFO - Detecting disulfide bonds.\n",
      "2023-07-06 11:04:59,954 - pocketoptimizer.preparation.structure_building - INFO - Starting the build.\n",
      "2023-07-06 11:05:00,304 - pocketoptimizer.preparation.structure_building - INFO - Finished building.\n",
      "2023-07-06 11:05:01,750 - pocketoptimizer.preparation.structure_building - INFO - Build mutation: A_44_THR.\n",
      "2023-07-06 11:05:02,273 - htmd.builder.amber - INFO - Detecting disulfide bonds.\n",
      "2023-07-06 11:05:02,432 - pocketoptimizer.preparation.structure_building - INFO - Starting the build.\n",
      "2023-07-06 11:05:02,779 - pocketoptimizer.preparation.structure_building - INFO - Finished building.\n",
      "2023-07-06 11:05:04,241 - pocketoptimizer.preparation.structure_building - INFO - Build mutation: B_84_ARG.\n",
      "2023-07-06 11:05:04,761 - htmd.builder.amber - INFO - Detecting disulfide bonds.\n",
      "2023-07-06 11:05:04,994 - pocketoptimizer.preparation.structure_building - INFO - Starting the build.\n",
      "2023-07-06 11:05:05,353 - pocketoptimizer.preparation.structure_building - INFO - Finished building.\n",
      "2023-07-06 11:05:06,770 - pocketoptimizer.preparation.structure_building - INFO - Build mutation: B_88_LEU.\n",
      "2023-07-06 11:05:07,343 - htmd.builder.amber - INFO - Detecting disulfide bonds.\n",
      "2023-07-06 11:05:07,505 - pocketoptimizer.preparation.structure_building - INFO - Starting the build.\n",
      "2023-07-06 11:05:07,857 - pocketoptimizer.preparation.structure_building - INFO - Finished building.\n",
      "2023-07-06 11:05:09,345 - pocketoptimizer.preparation.structure_building - INFO - Build mutation: B_88_THR.\n",
      "2023-07-06 11:05:09,923 - htmd.builder.amber - INFO - Detecting disulfide bonds.\n",
      "2023-07-06 11:05:10,089 - pocketoptimizer.preparation.structure_building - INFO - Starting the build.\n",
      "2023-07-06 11:05:10,458 - pocketoptimizer.preparation.structure_building - INFO - Finished building.\n",
      "2023-07-06 11:05:11,942 - pocketoptimizer.preparation.structure_building - INFO - Build mutation combination: A_44_LEU_B_84_ARG.\n",
      "2023-07-06 11:05:12,399 - htmd.builder.amber - INFO - Detecting disulfide bonds.\n",
      "2023-07-06 11:05:12,569 - pocketoptimizer.preparation.structure_building - INFO - Starting the build.\n",
      "2023-07-06 11:05:12,934 - pocketoptimizer.preparation.structure_building - INFO - Finished building.\n",
      "2023-07-06 11:05:14,348 - pocketoptimizer.preparation.structure_building - INFO - Build mutation combination: A_44_THR_B_84_ARG.\n",
      "2023-07-06 11:05:14,810 - htmd.builder.amber - INFO - Detecting disulfide bonds.\n",
      "2023-07-06 11:05:14,970 - pocketoptimizer.preparation.structure_building - INFO - Starting the build.\n",
      "2023-07-06 11:05:15,327 - pocketoptimizer.preparation.structure_building - INFO - Finished building.\n",
      "2023-07-06 11:05:16,815 - pocketoptimizer.preparation.structure_building - INFO - Build mutation combination: A_44_LEU_B_88_LEU.\n",
      "2023-07-06 11:05:17,221 - htmd.builder.amber - INFO - Detecting disulfide bonds.\n",
      "2023-07-06 11:05:17,421 - pocketoptimizer.preparation.structure_building - INFO - Starting the build.\n",
      "2023-07-06 11:05:17,792 - pocketoptimizer.preparation.structure_building - INFO - Finished building.\n",
      "2023-07-06 11:05:19,300 - pocketoptimizer.preparation.structure_building - INFO - Build mutation combination: A_44_LEU_B_88_THR.\n",
      "2023-07-06 11:05:19,707 - htmd.builder.amber - INFO - Detecting disulfide bonds.\n",
      "2023-07-06 11:05:19,871 - pocketoptimizer.preparation.structure_building - INFO - Starting the build.\n",
      "2023-07-06 11:05:20,230 - pocketoptimizer.preparation.structure_building - INFO - Finished building.\n",
      "2023-07-06 11:05:21,807 - pocketoptimizer.preparation.structure_building - INFO - Build mutation combination: A_44_THR_B_88_LEU.\n",
      "2023-07-06 11:05:22,223 - htmd.builder.amber - INFO - Detecting disulfide bonds.\n",
      "2023-07-06 11:05:22,384 - pocketoptimizer.preparation.structure_building - INFO - Starting the build.\n",
      "2023-07-06 11:05:22,753 - pocketoptimizer.preparation.structure_building - INFO - Finished building.\n",
      "2023-07-06 11:05:24,275 - pocketoptimizer.preparation.structure_building - INFO - Build mutation combination: A_44_THR_B_88_THR.\n",
      "2023-07-06 11:05:24,684 - htmd.builder.amber - INFO - Detecting disulfide bonds.\n",
      "2023-07-06 11:05:24,844 - pocketoptimizer.preparation.structure_building - INFO - Starting the build.\n",
      "2023-07-06 11:05:25,182 - pocketoptimizer.preparation.structure_building - INFO - Finished building.\n",
      "2023-07-06 11:05:26,664 - pocketoptimizer.preparation.structure_building - INFO - Build mutation combination: B_84_ARG_B_88_LEU.\n",
      "2023-07-06 11:05:27,138 - htmd.builder.amber - INFO - Detecting disulfide bonds.\n",
      "2023-07-06 11:05:27,301 - pocketoptimizer.preparation.structure_building - INFO - Starting the build.\n",
      "2023-07-06 11:05:27,646 - pocketoptimizer.preparation.structure_building - INFO - Finished building.\n",
      "2023-07-06 11:05:29,052 - pocketoptimizer.preparation.structure_building - INFO - Build mutation combination: B_84_ARG_B_88_THR.\n",
      "2023-07-06 11:05:29,523 - htmd.builder.amber - INFO - Detecting disulfide bonds.\n",
      "2023-07-06 11:05:29,687 - pocketoptimizer.preparation.structure_building - INFO - Starting the build.\n",
      "2023-07-06 11:05:30,007 - pocketoptimizer.preparation.structure_building - INFO - Finished building.\n"
     ]
    }
   ],
   "source": [
    "# Prepares all defined mutants and glycine scaffolds for side chain rotamer and ligand pose sampling\n",
    "design.prepare_mutants(sampling_pocket='GLY')"
   ]
  },
  {
   "cell_type": "code",
   "execution_count": null,
   "id": "59578900",
   "metadata": {},
   "outputs": [],
   "source": [
    "# Sampling of side chain rotamers\n",
    "design.sample_sidechain_rotamers(\n",
    "    vdw_filter_thresh=100,         # Energy threshold of 100 kcal/mol for filtering rotamers\n",
    "    library='dunbrack',            # Use dunbrack rotamer library (Should be used!)\n",
    "    dunbrack_filter_thresh=0.001,  # Probability threshold for filtering rotamers (0.1%)\n",
    "    accurate=False,                # Increases the number of rotamers sampled when using dunbrack (Be careful about the computation time!)\n",
    "    include_native=True            # Include the native rotamers from the minimized structure\n",
    ")"
   ]
  },
  {
   "cell_type": "code",
   "execution_count": null,
   "id": "b983bed0",
   "metadata": {},
   "outputs": [],
   "source": [
    "# Sampling of ligand poses\n",
    "# Defines a grid in which the ligand is translated and rotated along.\n",
    "#                       Range, Steps\n",
    "sample_grid = {'trans': [1, 0.5],  # Angstrom\n",
    "               'rot': [20, 20]}    # Degree\n",
    "design.sample_lig_poses(\n",
    "    method='grid',         #  Uses the grid method. Other option is random\n",
    "    grid=sample_grid,      #  Defined grid for sampling    \n",
    "    vdw_filter_thresh=100, #  Energy threshold of 100 kcal/mol for filtering ligand poses\n",
    "    max_poses=10000        #  Maximum number of poses\n",
    ")"
   ]
  },
  {
   "cell_type": "code",
   "execution_count": null,
   "id": "bb7a35d1",
   "metadata": {
    "tags": []
   },
   "outputs": [],
   "source": [
    "design.calculate_energies(\n",
    "    scoring='vina',           #  Method to score protein-ligand interaction\n",
    ")"
   ]
  },
  {
   "cell_type": "code",
   "execution_count": null,
   "id": "d7d2cd60",
   "metadata": {
    "tags": []
   },
   "outputs": [],
   "source": [
    "# Compute the lowest energy structures using linear programming\n",
    "design.design(\n",
    "    num_solutions=10,           #  Number of solutions to compute\n",
    "    ligand_scaling=10,          #  Scaling factor for binding-related energies (You need to adapt this to approximate the packing and binding energies)\n",
    ")"
   ]
  },
  {
   "cell_type": "code",
   "execution_count": 3,
   "id": "a4510d5f-c706-4cf7-825e-45556ec12d2b",
   "metadata": {},
   "outputs": [
    {
     "name": "stderr",
     "output_type": "stream",
     "text": [
      "2023-07-06 11:03:26,271 - pocketoptimizer.ui - INFO - All scaffold files were deleted.\n",
      "2023-07-06 11:03:26,310 - pocketoptimizer.ui - INFO - All ligand files were deleted.\n",
      "2023-07-06 11:03:26,332 - pocketoptimizer.ui - INFO - Logfile was deleted.\n"
     ]
    }
   ],
   "source": [
    "# Do not run this unless you want to fully clean your working directory from all created files and folders!\n",
    "design.clean(scaffold=True, ligand=True)"
   ]
  },
  {
   "cell_type": "code",
   "execution_count": null,
   "id": "6e8ac38d-0f89-42c1-84c8-d8073419cb19",
   "metadata": {},
   "outputs": [],
   "source": []
  }
 ],
 "metadata": {
  "kernelspec": {
   "display_name": "pocketoptimizer",
   "language": "python",
   "name": "pocketoptimizer"
  },
  "language_info": {
   "codemirror_mode": {
    "name": "ipython",
    "version": 3
   },
   "file_extension": ".py",
   "mimetype": "text/x-python",
   "name": "python",
   "nbconvert_exporter": "python",
   "pygments_lexer": "ipython3",
   "version": "3.9.13"
  }
 },
 "nbformat": 4,
 "nbformat_minor": 5
}
